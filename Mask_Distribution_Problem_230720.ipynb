{
  "cells": [
    {
      "cell_type": "markdown",
      "metadata": {
        "id": "qLf2xbdPefJl"
      },
      "source": [
        "# Mask Distribution Problem\n",
        "- Essencially we solve two separate problems; 1) mask for young population and 2) mask for adults population\n",
        "- Assumption: the total supply is insuffienct to satisfy all demands from the pharmacy\n",
        "- Objective 1: maximize the total utility (for social welfare)\n",
        "- Objecitve 2: minimize the total inequity (for fairness)"
      ]
    },
    {
      "cell_type": "markdown",
      "metadata": {
        "id": "03RekzsWefJn"
      },
      "source": [
        "## Read data from csv file"
      ]
    },
    {
      "cell_type": "code",
      "execution_count": null,
      "metadata": {
        "colab": {
          "base_uri": "https://localhost:8080/",
          "height": 112
        },
        "id": "dwhgzLChefJo",
        "outputId": "41075b7f-13b8-4004-d923-1ab1a05d8b30"
      },
      "outputs": [
        {
          "output_type": "execute_result",
          "data": {
            "text/plain": [
              "  location_id  address_3  n_pharmacies  n_young  n_adults  n_elders  intensity\n",
              "0      jongro          1             5      402       180        20   0.656476\n",
              "1        jung          2             3      530        70        30   0.766949"
            ],
            "text/html": [
              "\n",
              "  <div id=\"df-19b6d0f9-a902-4acf-b184-0b51fbcfa9fd\" class=\"colab-df-container\">\n",
              "    <div>\n",
              "<style scoped>\n",
              "    .dataframe tbody tr th:only-of-type {\n",
              "        vertical-align: middle;\n",
              "    }\n",
              "\n",
              "    .dataframe tbody tr th {\n",
              "        vertical-align: top;\n",
              "    }\n",
              "\n",
              "    .dataframe thead th {\n",
              "        text-align: right;\n",
              "    }\n",
              "</style>\n",
              "<table border=\"1\" class=\"dataframe\">\n",
              "  <thead>\n",
              "    <tr style=\"text-align: right;\">\n",
              "      <th></th>\n",
              "      <th>location_id</th>\n",
              "      <th>address_3</th>\n",
              "      <th>n_pharmacies</th>\n",
              "      <th>n_young</th>\n",
              "      <th>n_adults</th>\n",
              "      <th>n_elders</th>\n",
              "      <th>intensity</th>\n",
              "    </tr>\n",
              "  </thead>\n",
              "  <tbody>\n",
              "    <tr>\n",
              "      <th>0</th>\n",
              "      <td>jongro</td>\n",
              "      <td>1</td>\n",
              "      <td>5</td>\n",
              "      <td>402</td>\n",
              "      <td>180</td>\n",
              "      <td>20</td>\n",
              "      <td>0.656476</td>\n",
              "    </tr>\n",
              "    <tr>\n",
              "      <th>1</th>\n",
              "      <td>jung</td>\n",
              "      <td>2</td>\n",
              "      <td>3</td>\n",
              "      <td>530</td>\n",
              "      <td>70</td>\n",
              "      <td>30</td>\n",
              "      <td>0.766949</td>\n",
              "    </tr>\n",
              "  </tbody>\n",
              "</table>\n",
              "</div>\n",
              "    <div class=\"colab-df-buttons\">\n",
              "\n",
              "  <div class=\"colab-df-container\">\n",
              "    <button class=\"colab-df-convert\" onclick=\"convertToInteractive('df-19b6d0f9-a902-4acf-b184-0b51fbcfa9fd')\"\n",
              "            title=\"Convert this dataframe to an interactive table.\"\n",
              "            style=\"display:none;\">\n",
              "\n",
              "  <svg xmlns=\"http://www.w3.org/2000/svg\" height=\"24px\" viewBox=\"0 -960 960 960\">\n",
              "    <path d=\"M120-120v-720h720v720H120Zm60-500h600v-160H180v160Zm220 220h160v-160H400v160Zm0 220h160v-160H400v160ZM180-400h160v-160H180v160Zm440 0h160v-160H620v160ZM180-180h160v-160H180v160Zm440 0h160v-160H620v160Z\"/>\n",
              "  </svg>\n",
              "    </button>\n",
              "\n",
              "  <style>\n",
              "    .colab-df-container {\n",
              "      display:flex;\n",
              "      gap: 12px;\n",
              "    }\n",
              "\n",
              "    .colab-df-convert {\n",
              "      background-color: #E8F0FE;\n",
              "      border: none;\n",
              "      border-radius: 50%;\n",
              "      cursor: pointer;\n",
              "      display: none;\n",
              "      fill: #1967D2;\n",
              "      height: 32px;\n",
              "      padding: 0 0 0 0;\n",
              "      width: 32px;\n",
              "    }\n",
              "\n",
              "    .colab-df-convert:hover {\n",
              "      background-color: #E2EBFA;\n",
              "      box-shadow: 0px 1px 2px rgba(60, 64, 67, 0.3), 0px 1px 3px 1px rgba(60, 64, 67, 0.15);\n",
              "      fill: #174EA6;\n",
              "    }\n",
              "\n",
              "    .colab-df-buttons div {\n",
              "      margin-bottom: 4px;\n",
              "    }\n",
              "\n",
              "    [theme=dark] .colab-df-convert {\n",
              "      background-color: #3B4455;\n",
              "      fill: #D2E3FC;\n",
              "    }\n",
              "\n",
              "    [theme=dark] .colab-df-convert:hover {\n",
              "      background-color: #434B5C;\n",
              "      box-shadow: 0px 1px 3px 1px rgba(0, 0, 0, 0.15);\n",
              "      filter: drop-shadow(0px 1px 2px rgba(0, 0, 0, 0.3));\n",
              "      fill: #FFFFFF;\n",
              "    }\n",
              "  </style>\n",
              "\n",
              "    <script>\n",
              "      const buttonEl =\n",
              "        document.querySelector('#df-19b6d0f9-a902-4acf-b184-0b51fbcfa9fd button.colab-df-convert');\n",
              "      buttonEl.style.display =\n",
              "        google.colab.kernel.accessAllowed ? 'block' : 'none';\n",
              "\n",
              "      async function convertToInteractive(key) {\n",
              "        const element = document.querySelector('#df-19b6d0f9-a902-4acf-b184-0b51fbcfa9fd');\n",
              "        const dataTable =\n",
              "          await google.colab.kernel.invokeFunction('convertToInteractive',\n",
              "                                                    [key], {});\n",
              "        if (!dataTable) return;\n",
              "\n",
              "        const docLinkHtml = 'Like what you see? Visit the ' +\n",
              "          '<a target=\"_blank\" href=https://colab.research.google.com/notebooks/data_table.ipynb>data table notebook</a>'\n",
              "          + ' to learn more about interactive tables.';\n",
              "        element.innerHTML = '';\n",
              "        dataTable['output_type'] = 'display_data';\n",
              "        await google.colab.output.renderOutput(dataTable, element);\n",
              "        const docLink = document.createElement('div');\n",
              "        docLink.innerHTML = docLinkHtml;\n",
              "        element.appendChild(docLink);\n",
              "      }\n",
              "    </script>\n",
              "  </div>\n",
              "\n",
              "\n",
              "<div id=\"df-8196c72e-c961-4b59-bc51-834c57ed4150\">\n",
              "  <button class=\"colab-df-quickchart\" onclick=\"quickchart('df-8196c72e-c961-4b59-bc51-834c57ed4150')\"\n",
              "            title=\"Suggest charts.\"\n",
              "            style=\"display:none;\">\n",
              "\n",
              "<svg xmlns=\"http://www.w3.org/2000/svg\" height=\"24px\"viewBox=\"0 0 24 24\"\n",
              "     width=\"24px\">\n",
              "    <g>\n",
              "        <path d=\"M19 3H5c-1.1 0-2 .9-2 2v14c0 1.1.9 2 2 2h14c1.1 0 2-.9 2-2V5c0-1.1-.9-2-2-2zM9 17H7v-7h2v7zm4 0h-2V7h2v10zm4 0h-2v-4h2v4z\"/>\n",
              "    </g>\n",
              "</svg>\n",
              "  </button>\n",
              "\n",
              "<style>\n",
              "  .colab-df-quickchart {\n",
              "    background-color: #E8F0FE;\n",
              "    border: none;\n",
              "    border-radius: 50%;\n",
              "    cursor: pointer;\n",
              "    display: none;\n",
              "    fill: #1967D2;\n",
              "    height: 32px;\n",
              "    padding: 0 0 0 0;\n",
              "    width: 32px;\n",
              "  }\n",
              "\n",
              "  .colab-df-quickchart:hover {\n",
              "    background-color: #E2EBFA;\n",
              "    box-shadow: 0px 1px 2px rgba(60, 64, 67, 0.3), 0px 1px 3px 1px rgba(60, 64, 67, 0.15);\n",
              "    fill: #174EA6;\n",
              "  }\n",
              "\n",
              "  [theme=dark] .colab-df-quickchart {\n",
              "    background-color: #3B4455;\n",
              "    fill: #D2E3FC;\n",
              "  }\n",
              "\n",
              "  [theme=dark] .colab-df-quickchart:hover {\n",
              "    background-color: #434B5C;\n",
              "    box-shadow: 0px 1px 3px 1px rgba(0, 0, 0, 0.15);\n",
              "    filter: drop-shadow(0px 1px 2px rgba(0, 0, 0, 0.3));\n",
              "    fill: #FFFFFF;\n",
              "  }\n",
              "</style>\n",
              "\n",
              "  <script>\n",
              "    async function quickchart(key) {\n",
              "      const charts = await google.colab.kernel.invokeFunction(\n",
              "          'suggestCharts', [key], {});\n",
              "    }\n",
              "    (() => {\n",
              "      let quickchartButtonEl =\n",
              "        document.querySelector('#df-8196c72e-c961-4b59-bc51-834c57ed4150 button');\n",
              "      quickchartButtonEl.style.display =\n",
              "        google.colab.kernel.accessAllowed ? 'block' : 'none';\n",
              "    })();\n",
              "  </script>\n",
              "</div>\n",
              "    </div>\n",
              "  </div>\n"
            ]
          },
          "metadata": {},
          "execution_count": 1
        }
      ],
      "source": [
        "import pandas as pd\n",
        "\n",
        "#data = pd.read_csv('small_example.csv', encoding='utf-8')\n",
        "data = pd.read_csv('data_test_2.csv') # contains 1000 dong out of 3500-ish\n",
        "data = data.drop(data.columns[1:3],axis=1)\n",
        "data.iloc[0:2,:]"
      ]
    },
    {
      "cell_type": "markdown",
      "metadata": {
        "id": "oZLZVzsGefJp"
      },
      "source": [
        "### Data processing\n",
        "- create pharmacy data: each pharmacy has the same number of population for each class within the same area (location_id)"
      ]
    },
    {
      "cell_type": "code",
      "execution_count": null,
      "metadata": {
        "colab": {
          "base_uri": "https://localhost:8080/"
        },
        "id": "wpDDsVKrefJp",
        "outputId": "0a6178a1-5b67-4d6e-b021-df9d5e42395b"
      },
      "outputs": [
        {
          "output_type": "stream",
          "name": "stdout",
          "text": [
            "(2, 5)\n",
            "  pharmacy_id location_id n_young n_adults n_elders\n",
            "0      jongro      jongro   402.0    180.0     20.0\n",
            "1        jung        jung   530.0     70.0     30.0\n"
          ]
        }
      ],
      "source": [
        "import numpy as np\n",
        "n = data.shape[0] # number of total locations\n",
        "#n = 300\n",
        "#m = data['n_pharmacies'].sum()\n",
        "m = n\n",
        "pharm_data =  pd.DataFrame([],index=range(0,m), columns=['pharmacy_id', 'location_id', 'n_young','n_adults','n_elders'])\n",
        "print(pharm_data.shape)\n",
        "counter = 0\n",
        "for i in range(n):\n",
        "    #nn = data.iloc[i,6]\n",
        "    nn = 1\n",
        "    for j in range(nn):\n",
        "\n",
        "        pharm_data.iloc[counter,0] = data.iloc[i,0]#counter + 1\n",
        "        pharm_data.iloc[counter,1] = data.iloc[i,0]\n",
        "        pharm_data.iloc[counter,2] = np.ceil(data.iloc[i,3]/nn)\n",
        "        pharm_data.iloc[counter,3] = np.ceil(data.iloc[i,4]/nn)\n",
        "        pharm_data.iloc[counter,4] = np.ceil(data.iloc[i,5]/nn)\n",
        "        counter = counter + 1\n",
        "print(pharm_data)"
      ]
    },
    {
      "cell_type": "markdown",
      "metadata": {
        "id": "JpXoHMrAefJq"
      },
      "source": [
        "### total supply\n",
        "- total quantities are insufficient"
      ]
    },
    {
      "cell_type": "code",
      "execution_count": null,
      "metadata": {
        "colab": {
          "base_uri": "https://localhost:8080/"
        },
        "id": "tIxxuEerefJq",
        "outputId": "ef289964-85f7-408d-8c69-a78a3f0addc9"
      },
      "outputs": [
        {
          "output_type": "stream",
          "name": "stdout",
          "text": [
            "30.0\n",
            "5.0\n"
          ]
        }
      ],
      "source": [
        "import numpy as np\n",
        "supply_adults = np.ceil(0.1*data['n_adults'].sum())\n",
        "supply_elders = np.ceil(0.1*(data['n_elders'].sum()))\n",
        "\n",
        "supply_adults = supply_adults + supply_elders\n",
        "print(supply_adults) # I arbitrarily set 50% of shortage\n",
        "print(supply_elders)\n"
      ]
    },
    {
      "cell_type": "markdown",
      "metadata": {
        "id": "hJYYFurPefJq"
      },
      "source": [
        "### construct two utility functions for each pharmacy\n",
        "- we assume that each pharmacy in the same 'dong' area has the same number of (potential) customers\n",
        "- e.g. An area has 100 population and 2 pharmacies. Then, pharmacy 1 and 2 covers 50 and 50 population respectively in this area.\n",
        "- Each pharmacy has two utility functions; 1) utility function for young population (age below 15) and 2) utility for adults inclding elders (age above 65).\n",
        "- utiliy function is consisted of total population, number of breakpoints, population for each class, slope, max utility\n",
        "- Each area has an intensity which shows the level of threat for COVID-19. (higher value represents higher threat)\n",
        "- to begin with, we focus on the problem of the adults below."
      ]
    },
    {
      "cell_type": "code",
      "execution_count": null,
      "metadata": {
        "colab": {
          "base_uri": "https://localhost:8080/"
        },
        "id": "N9VgimrdefJr",
        "outputId": "b27dd716-a139-4851-a3d6-b9635e6e8856"
      },
      "outputs": [
        {
          "output_type": "stream",
          "name": "stdout",
          "text": [
            "The number of ('dong') locations is 2.\n"
          ]
        }
      ],
      "source": [
        "n = data.shape[0] # number of total locations\n",
        "print(\"The number of ('dong') locations is %d.\" % n)"
      ]
    },
    {
      "cell_type": "code",
      "execution_count": null,
      "metadata": {
        "colab": {
          "base_uri": "https://localhost:8080/"
        },
        "id": "N2TTmU53efJr",
        "outputId": "bba46fe4-3947-4434-cfc2-26be6debc208"
      },
      "outputs": [
        {
          "output_type": "stream",
          "name": "stdout",
          "text": [
            "The number of pharmacies is 2.\n"
          ]
        }
      ],
      "source": [
        "m = pharm_data.shape[0] # number of total pharmacies\n",
        "print(\"The number of pharmacies is %d.\" % m)"
      ]
    },
    {
      "cell_type": "code",
      "execution_count": null,
      "metadata": {
        "id": "j6pl4_jMefJr"
      },
      "outputs": [],
      "source": [
        "total_area_population = data[['location_id', 'n_adults']].copy()  #total number of population of each \"dong\"\n",
        "for i in range(n):\n",
        "    total_area_population.iloc[i,1] = data.iloc[i,4] + data.iloc[i,5]\n"
      ]
    },
    {
      "cell_type": "code",
      "execution_count": null,
      "metadata": {
        "colab": {
          "base_uri": "https://localhost:8080/"
        },
        "id": "aFFEPaxrefJr",
        "outputId": "261da2d1-7f92-45b4-cf5a-f82c97b2568b"
      },
      "outputs": [
        {
          "output_type": "stream",
          "name": "stdout",
          "text": [
            "[200. 100.]\n",
            "30.0\n",
            "300.0\n"
          ]
        }
      ],
      "source": [
        "total_population = np.zeros(m) #total number of (potential) customer of each pharmacy\n",
        "for i in range(m):\n",
        "    total_population[i] = pharm_data.iloc[i,3] + pharm_data.iloc[i,4]\n",
        "\n",
        "print(total_population[0:15])\n",
        "print(supply_adults)\n",
        "print(sum(total_population))"
      ]
    },
    {
      "cell_type": "code",
      "execution_count": null,
      "metadata": {
        "id": "lXQmym6UefJr"
      },
      "outputs": [],
      "source": [
        "num_breaks = np.zeros(m) #number of breakpoints of the utility function for each pharmacy\n",
        "for i in range(m):\n",
        "    num_breaks[i] = 2"
      ]
    },
    {
      "cell_type": "code",
      "execution_count": null,
      "metadata": {
        "colab": {
          "base_uri": "https://localhost:8080/"
        },
        "id": "6eqE-SvMefJr",
        "outputId": "378e4508-e550-42ad-fa4e-90e4991ff25e"
      },
      "outputs": [
        {
          "output_type": "stream",
          "name": "stdout",
          "text": [
            "[[ 20. 180.]\n",
            " [ 30.  70.]]\n"
          ]
        }
      ],
      "source": [
        "sub_population = np.zeros([m,2]) # number of capacity of each class (adults and elders) for each pharmacy\n",
        "for i in range(m):\n",
        "    sub_population[i,0] = pharm_data.iloc[i,4] # number of elders (they have a higher priority)\n",
        "    sub_population[i,1] = pharm_data.iloc[i,3] # number of adults\n",
        "\n",
        "print(sub_population[0:15,:])"
      ]
    },
    {
      "cell_type": "markdown",
      "metadata": {
        "id": "0THFlryaefJs"
      },
      "source": [
        "- slope means the utility for one customer of each class (higher slope means higher benefit)"
      ]
    },
    {
      "cell_type": "code",
      "execution_count": null,
      "metadata": {
        "colab": {
          "base_uri": "https://localhost:8080/"
        },
        "id": "9gAmciT6efJs",
        "outputId": "88e130c3-4b82-46e2-e57f-58f77fe01ea2"
      },
      "outputs": [
        {
          "output_type": "stream",
          "name": "stdout",
          "text": [
            "[[2.  1. ]\n",
            " [2.5 0.5]]\n"
          ]
        }
      ],
      "source": [
        "slope = np.zeros([m,2]) # number of slope of each class (adults and elders) for each pharmacy\n",
        "for i in range(m):\n",
        "    #a = data.loc[data['location_id']==pharm_data.iloc[i,1],'intensity']\n",
        "    #temp_intensity = a.iloc[0] # obtain the intensity for the i-th pharmacy\n",
        "    slope[i,0] = 2 * data.iloc[i,6] #second term adjusts the utility slope\n",
        "    slope[i,1] = 1 * data.iloc[i,6]\n",
        "\n",
        "slope[0,0] = 2\n",
        "slope[0,1] = 1\n",
        "\n",
        "slope[1,0] = 2.5\n",
        "slope[1,1] = 0.5\n",
        "\n",
        "print(slope[0:10,:])"
      ]
    },
    {
      "cell_type": "markdown",
      "metadata": {
        "id": "ZGylFPcWefJs"
      },
      "source": [
        "- maximum utility of each pharmacy (this is needed for future computation of the gini index)"
      ]
    },
    {
      "cell_type": "code",
      "execution_count": null,
      "metadata": {
        "colab": {
          "base_uri": "https://localhost:8080/"
        },
        "id": "FfP-qvO8efJs",
        "outputId": "1030ddc3-dd1c-4b9b-f1d6-8a3a22d0b605"
      },
      "outputs": [
        {
          "output_type": "stream",
          "name": "stdout",
          "text": [
            "[220. 110.]\n"
          ]
        }
      ],
      "source": [
        "max_utility = np.zeros(m)\n",
        "for i in range(m):\n",
        "    max_utility[i] = sub_population[i,0]*slope[i,0]+sub_population[i,1]*slope[i,1]\n",
        "print(max_utility[0:15])"
      ]
    },
    {
      "cell_type": "markdown",
      "metadata": {
        "id": "zmJQISXTefJs"
      },
      "source": [
        "## (Sample) utility funtion graph"
      ]
    },
    {
      "cell_type": "code",
      "execution_count": null,
      "metadata": {
        "colab": {
          "base_uri": "https://localhost:8080/",
          "height": 514
        },
        "id": "An7bjbQ1efJs",
        "outputId": "12b09cee-0749-4ffa-e48d-b7286adc378a"
      },
      "outputs": [
        {
          "output_type": "stream",
          "name": "stdout",
          "text": [
            "[  0.  20. 200.] [  0.  40. 220.]\n"
          ]
        },
        {
          "output_type": "execute_result",
          "data": {
            "text/plain": [
              "Text(0.5, 0.98, 'A sample utility function of pharmacy')"
            ]
          },
          "metadata": {},
          "execution_count": 12
        },
        {
          "output_type": "display_data",
          "data": {
            "text/plain": [
              "<Figure size 640x480 with 1 Axes>"
            ],
            "image/png": "[encoded data removed]"
          },
          "metadata": {}
        }
      ],
      "source": [
        "from scipy import optimize\n",
        "import matplotlib.pyplot as plt\n",
        "import numpy as np\n",
        "%matplotlib inline\n",
        "\n",
        "x = np.array([0, sub_population[0,0],sub_population[0,0]+sub_population[0,1]], dtype=float)\n",
        "y = np.array([0, sub_population[0,0]*slope[0,0],sub_population[0,0]*slope[0,0]+sub_population[0,1]*slope[0,1] ])\n",
        "\n",
        "print(x,y)\n",
        "fig, ax = plt.subplots()\n",
        "\n",
        "plt.xlim([0, x[2]])\n",
        "plt.ylim([0, y[2]])\n",
        "plt.scatter(x, y)\n",
        "plt.plot(x, y,\"r\")\n",
        "fig.suptitle('A sample utility function of pharmacy', fontsize=12)"
      ]
    },
    {
      "cell_type": "markdown",
      "metadata": {
        "id": "Ene4xVVpefJt"
      },
      "source": [
        "## Solve a bi-criteria optimization using $\\epsilon$-constraint method"
      ]
    },
    {
      "cell_type": "code",
      "execution_count": null,
      "metadata": {
        "id": "5JNcBRbkefJt"
      },
      "outputs": [],
      "source": [
        "#from docplex.mp.model import Model\n",
        "#numPharmacies = 5000\n",
        "#B = [(j,k) for j in range(numPharmacies) for k in range(numPharmacies) if k>j]\n",
        "#mdl = Model(\"lp\")\n",
        "#d_plus = mdl.continuous_var_dict(B,name='d_plus')"
      ]
    },
    {
      "cell_type": "code",
      "source": [
        "!pip install gurobipy"
      ],
      "metadata": {
        "colab": {
          "base_uri": "https://localhost:8080/"
        },
        "id": "4j5sdsBFCdIC",
        "outputId": "0d6b96fc-371e-4a58-9137-2d176df2f7c5"
      },
      "execution_count": null,
      "outputs": [
        {
          "output_type": "stream",
          "name": "stdout",
          "text": [
            "Collecting gurobipy\n",
            "  Downloading gurobipy-10.0.2-cp310-cp310-manylinux2014_x86_64.whl (12.7 MB)\n",
            "\u001b[2K     \u001b[90m━━━━━━━━━━━━━━━━━━━━━━━━━━━━━━━━━━━━━━━━\u001b[0m \u001b[32m12.7/12.7 MB\u001b[0m \u001b[31m71.7 MB/s\u001b[0m eta \u001b[36m0:00:00\u001b[0m\n",
            "\u001b[?25hInstalling collected packages: gurobipy\n",
            "Successfully installed gurobipy-10.0.2\n"
          ]
        }
      ]
    },
    {
      "cell_type": "code",
      "source": [
        "from gurobipy import Model, GRB\n",
        "\n",
        "\n",
        "def solve_problem_gurobi(epsilon, supply, total_population, num_breaks, sub_population, slope, max_utility):\n",
        "    import gurobipy as gp\n",
        "    m = gp.Env(empty=True)\n",
        "    m.setParam('WLSACCESSID', '54ea4edc-45f3-4ac2-b06f-cc4809a3c06c')\n",
        "    m.setParam('WLSSECRET', '2802dfc5-13c3-4ceb-b6c2-b217b0d5994a')\n",
        "    m.setParam('LICENSEID', 947226)\n",
        "    m.setParam(\"OutputFlag\", 0) #add by CHP\n",
        "    m.start()\n",
        "\n",
        "    print(\"epsilon: \"+str(epsilon))\n",
        "    print(\"supply: \" + str(supply))\n",
        "\n",
        "\n",
        "    flag = 1  # if optimal solution is found: 0, otherwise 1.\n",
        "    numPharmacies = total_population.shape[0]  # number of pharmacies\n",
        "    N = [i for i in range(numPharmacies)]  # define set\n",
        "    M = [i for i in range(int(num_breaks[0]))]  # define set for break points\n",
        "    A = [(i, t) for i in range(numPharmacies) for t in range(int(num_breaks[0]))]  # define set for x_i^t\n",
        "    B = [(j, k) for j in range(numPharmacies) for k in range(numPharmacies) if k > j]\n",
        "\n",
        "    #mdl = Model(\"lp\")\n",
        "    mdl = gp.Model(env=m)\n",
        "\n",
        "    # define variables\n",
        "    x = mdl.addVars(A, name='x', lb=0.0, vtype=GRB.CONTINUOUS)\n",
        "    d_plus = mdl.addVars(B, name='d_plus', lb=0.0, vtype=GRB.CONTINUOUS)\n",
        "    d_minus = mdl.addVars(B, name='d_minus', lb=0.0, vtype=GRB.CONTINUOUS)\n",
        "\n",
        "    # define objective function\n",
        "    mdl.setObjective(sum(slope[i, t] * x[i, t] for i, t in A), GRB.MAXIMIZE)\n",
        "\n",
        "    # define constraints\n",
        "    mdl.addConstr(sum(x[i, t] for i, t in A) <= supply, \"constraint1\")\n",
        "    for i, t in A:\n",
        "        mdl.addConstr(x[i, t] <= sub_population[i, t])\n",
        "    for i in N:\n",
        "        mdl.addConstr(sum(x[i, t] for t in M) <= total_population[i], \"constraint2_%d\" % i)\n",
        "    for j, k in B:\n",
        "        mdl.addConstr(d_plus[j, k] - d_minus[j, k] == max_utility[j] * sum(slope[k, t] * x[k, t] for t in M)\n",
        "                      - max_utility[k] * sum(slope[j, t] * x[j, t] for t in M), \"constraint3_%d_%d\" % (j, k))\n",
        "    mdl.addConstr(sum(d_plus[j, k] + d_minus[j, k] for j, k in B) <= epsilon\n",
        "                  * sum(max_utility[i] for i in N) * sum(slope[i, t] * x[i, t] for i, t in A))\n",
        "\n",
        "    mdl.setParam(\"OutputFlag\", 0)  # Suppress Gurobi output\n",
        "\n",
        "    mdl.optimize()\n",
        "\n",
        "    #x_sol = {i: {t: x[i, t].X for t in range(int(num_breaks[0]))} for i in range(numPharmacies)}\n",
        "    x_sol = {(i, t): x[i, t].X for i, t in A}\n",
        "    x_sol_list = list(x_sol.values())\n",
        "    d_plus = {(j, k): d_plus[j, k].X for j, k in B}\n",
        "    d_plus_list = list(d_plus.values())\n",
        "    d_minus = {(j, k): d_minus[j, k].X for j, k in B}\n",
        "    d_minus_list = list(d_minus.values())\n",
        "    flag = mdl.Status\n",
        "    optObj = mdl.ObjVal\n",
        "\n",
        "    return x_sol, d_plus, d_minus, optObj, flag\n"
      ],
      "metadata": {
        "id": "6bYYpfnxCbhx"
      },
      "execution_count": null,
      "outputs": []
    },
    {
      "cell_type": "markdown",
      "metadata": {
        "id": "nk79jUXHefJt"
      },
      "source": [
        "### solve the problem with epsilon value"
      ]
    },
    {
      "cell_type": "code",
      "execution_count": null,
      "metadata": {
        "id": "MWkV6fA5efJt"
      },
      "outputs": [],
      "source": [
        "epsilon = 0.01"
      ]
    },
    {
      "cell_type": "code",
      "execution_count": null,
      "metadata": {
        "colab": {
          "base_uri": "https://localhost:8080/"
        },
        "id": "Pi8ijLrqefJt",
        "outputId": "531f37a1-a615-414d-ce56-f1152e3c8510"
      },
      "outputs": [
        {
          "output_type": "stream",
          "name": "stdout",
          "text": [
            "epsilon: 0.01\n",
            "supply: 30.0\n"
          ]
        }
      ],
      "source": [
        "x,d_plus,d_minus,obj_val,flag = solve_problem_gurobi(epsilon,supply_adults,total_population,num_breaks,sub_population,slope,max_utility)"
      ]
    },
    {
      "cell_type": "code",
      "source": [
        "x"
      ],
      "metadata": {
        "colab": {
          "base_uri": "https://localhost:8080/"
        },
        "id": "ih2Pql6oIEO8",
        "outputId": "8d420e9b-69e0-46a7-9494-dc5ce108bea7"
      },
      "execution_count": null,
      "outputs": [
        {
          "output_type": "execute_result",
          "data": {
            "text/plain": [
              "{(0, 0): 20.0,\n",
              " (0, 1): 1.3518052057094874,\n",
              " (1, 0): 8.648194794290513,\n",
              " (1, 1): 0.0}"
            ]
          },
          "metadata": {},
          "execution_count": 18
        }
      ]
    },
    {
      "cell_type": "markdown",
      "metadata": {
        "id": "khNKcX-kefJt"
      },
      "source": [
        "- 4924020.000000\n",
        "- 4923979.792753\n",
        "- Elapsed time = 1753.23 sec. ~30 min"
      ]
    },
    {
      "cell_type": "code",
      "execution_count": null,
      "metadata": {
        "id": "kdgHY9sWefJt"
      },
      "outputs": [],
      "source": [
        "def restore_values(numPharmacies,x,d_plus,d_minus,obj_val):\n",
        "\n",
        "    num_value = 0\n",
        "    for j in range(numPharmacies):\n",
        "        for k in range(numPharmacies):\n",
        "            if k>j:\n",
        "                num_value = num_value + d_plus[(j,k)] + d_minus[(j,k)]\n",
        "    #print(num_value)\n",
        "    denom_value_1 = 0\n",
        "    for i in range(numPharmacies):\n",
        "        denom_value_1 = denom_value_1 + max_utility[i]\n",
        "    #print(denom_value_1)\n",
        "    denom_value_2 = 0\n",
        "    for i in range(numPharmacies):\n",
        "        for t in range(int(num_breaks[0])):\n",
        "            denom_value_2 = denom_value_2 + slope[i,t]*x[(i,t)]\n",
        "    #print(denom_value_2)\n",
        "    gini = num_value/(denom_value_1*denom_value_2)\n",
        "    # print(gini)\n",
        "    return gini, obj_val"
      ]
    },
    {
      "cell_type": "code",
      "execution_count": null,
      "metadata": {
        "colab": {
          "base_uri": "https://localhost:8080/"
        },
        "id": "0VbeeNpyefJu",
        "outputId": "ff1cb2d4-436d-4b1c-9686-5fa1af3913ef"
      },
      "outputs": [
        {
          "output_type": "stream",
          "name": "stdout",
          "text": [
            "0.01\n",
            "62.97229219143577\n"
          ]
        }
      ],
      "source": [
        "numPharmacies = pharm_data.shape[0]\n",
        "gini, obj_val  = restore_values(numPharmacies,x,d_plus,d_minus,obj_val)\n",
        "print(gini)\n",
        "print(obj_val)"
      ]
    },
    {
      "cell_type": "code",
      "execution_count": null,
      "metadata": {
        "colab": {
          "base_uri": "https://localhost:8080/"
        },
        "id": "dqBzN9soefJu",
        "outputId": "20804370-627b-43e8-f07f-a80f676f7786"
      },
      "outputs": [
        {
          "output_type": "execute_result",
          "data": {
            "text/plain": [
              "4924020.0"
            ]
          },
          "metadata": {},
          "execution_count": 21
        }
      ],
      "source": [
        "0.1915107507947152\n",
        "4924020.0"
      ]
    },
    {
      "cell_type": "markdown",
      "metadata": {
        "id": "NbBvqd7FefJu"
      },
      "source": [
        "## Obtain a trade-off curve between inequity vs. utility"
      ]
    },
    {
      "cell_type": "code",
      "execution_count": null,
      "metadata": {
        "colab": {
          "base_uri": "https://localhost:8080/"
        },
        "id": "EXh2cDOuefJu",
        "outputId": "7c9c33a3-19df-467d-9770-46871cd96b83"
      },
      "outputs": [
        {
          "output_type": "stream",
          "name": "stdout",
          "text": [
            "epsilon: 0.01\n",
            "supply: 30.0\n",
            "epsilon: 0.1\n",
            "supply: 30.0\n",
            "epsilon: 0.3\n",
            "supply: 30.0\n",
            "epsilon: 0.5\n",
            "supply: 30.0\n",
            "epsilon: 1\n",
            "supply: 30.0\n",
            "  epsilon  inequity    utility\n",
            "0    0.01      0.01  62.972292\n",
            "1     0.1       0.1  65.693431\n",
            "2     0.3       0.3   68.70229\n",
            "3     0.5       0.5       72.0\n",
            "4       1  0.666667       75.0\n"
          ]
        }
      ],
      "source": [
        "B = [0.01, 0.1, 0.3,0.5,1]\n",
        "results =  pd.DataFrame([],index=range(0,len(B)), columns=['epsilon', 'inequity', 'utility'])\n",
        "for i in range(len(B)):\n",
        "    epsilon = B[i]\n",
        "    #print(epsilon)\n",
        "    x,d_plus,d_minus,obj_val,flag = solve_problem_gurobi(epsilon,supply_adults,total_population,num_breaks,sub_population,slope,max_utility)\n",
        "    gini, obj_val  = restore_values(numPharmacies,x,d_plus,d_minus,obj_val)\n",
        "    results.iloc[i,0] = epsilon\n",
        "    results.iloc[i,1] = gini\n",
        "    results.iloc[i,2] = obj_val\n",
        "\n",
        "print(results.iloc[0:len(B)])"
      ]
    },
    {
      "cell_type": "code",
      "execution_count": null,
      "metadata": {
        "colab": {
          "base_uri": "https://localhost:8080/",
          "height": 496
        },
        "id": "UEbyrVClefJu",
        "outputId": "746a6d47-63d6-40f5-d626-030375ff76a5"
      },
      "outputs": [
        {
          "output_type": "execute_result",
          "data": {
            "text/plain": [
              "Text(0.5, 0.98, 'A trade-off curve')"
            ]
          },
          "metadata": {},
          "execution_count": 23
        },
        {
          "output_type": "display_data",
          "data": {
            "text/plain": [
              "<Figure size 640x480 with 1 Axes>"
            ],
            "image/png": "[encoded data removed]"
          },
          "metadata": {}
        }
      ],
      "source": [
        "fig, ax = plt.subplots()\n",
        "plt.xlim([0, 1.1* results['inequity'].max()])\n",
        "plt.ylim([0.95*results['utility'].min(), 1.05*results['utility'].max()])\n",
        "plt.scatter(results['inequity'], results['utility'])\n",
        "plt.plot(results['inequity'], results['utility'],\"r\")\n",
        "fig.suptitle('A trade-off curve', fontsize=12)"
      ]
    },
    {
      "cell_type": "code",
      "source": [
        "fig, ax = plt.subplots()\n",
        "plt.xlim([0, 1.1* results['epsilon'].max()])\n",
        "plt.ylim([0.95*results['utility'].min(), 1.05*results['utility'].max()])\n",
        "plt.scatter(results['epsilon'], results['utility'])\n",
        "plt.plot(results['epsilon'], results['utility'],\"r\")\n",
        "fig.suptitle('A trade-off curve', fontsize=12)"
      ],
      "metadata": {
        "colab": {
          "base_uri": "https://localhost:8080/",
          "height": 496
        },
        "id": "Nj4h6mMGDOPX",
        "outputId": "df31aa3e-51f1-4ea4-bd2d-08c798f45867"
      },
      "execution_count": null,
      "outputs": [
        {
          "output_type": "execute_result",
          "data": {
            "text/plain": [
              "Text(0.5, 0.98, 'A trade-off curve')"
            ]
          },
          "metadata": {},
          "execution_count": 24
        },
        {
          "output_type": "display_data",
          "data": {
            "text/plain": [
              "<Figure size 640x480 with 1 Axes>"
            ],
            "image/png": "[encoded data removed]"
          },
          "metadata": {}
        }
      ]
    },
    {
      "cell_type": "markdown",
      "metadata": {
        "id": "-fdE3njWefJu"
      },
      "source": [
        "## Restore the solution"
      ]
    },
    {
      "cell_type": "code",
      "execution_count": null,
      "metadata": {
        "colab": {
          "base_uri": "https://localhost:8080/",
          "height": 166
        },
        "id": "H9sgIqAaefJu",
        "outputId": "b079b1d4-fbd9-44d7-c6e2-879edfdb6e71"
      },
      "outputs": [
        {
          "output_type": "stream",
          "name": "stdout",
          "text": [
            "epsilon: 1\n",
            "supply: 30.0\n",
            "epsilon value is  1.00\n"
          ]
        },
        {
          "output_type": "display_data",
          "data": {
            "text/plain": [
              "  pharmacy_id n_adults n_elders allocation_qty\n",
              "0      jongro    180.0     20.0            0.0\n",
              "1        jung     70.0     30.0           30.0"
            ],
            "text/html": [
              "\n",
              "  <div id=\"df-dedb3c73-7544-42fc-a161-c0f596deb6a2\" class=\"colab-df-container\">\n",
              "    <div>\n",
              "<style scoped>\n",
              "    .dataframe tbody tr th:only-of-type {\n",
              "        vertical-align: middle;\n",
              "    }\n",
              "\n",
              "    .dataframe tbody tr th {\n",
              "        vertical-align: top;\n",
              "    }\n",
              "\n",
              "    .dataframe thead th {\n",
              "        text-align: right;\n",
              "    }\n",
              "</style>\n",
              "<table border=\"1\" class=\"dataframe\">\n",
              "  <thead>\n",
              "    <tr style=\"text-align: right;\">\n",
              "      <th></th>\n",
              "      <th>pharmacy_id</th>\n",
              "      <th>n_adults</th>\n",
              "      <th>n_elders</th>\n",
              "      <th>allocation_qty</th>\n",
              "    </tr>\n",
              "  </thead>\n",
              "  <tbody>\n",
              "    <tr>\n",
              "      <th>0</th>\n",
              "      <td>jongro</td>\n",
              "      <td>180.0</td>\n",
              "      <td>20.0</td>\n",
              "      <td>0.0</td>\n",
              "    </tr>\n",
              "    <tr>\n",
              "      <th>1</th>\n",
              "      <td>jung</td>\n",
              "      <td>70.0</td>\n",
              "      <td>30.0</td>\n",
              "      <td>30.0</td>\n",
              "    </tr>\n",
              "  </tbody>\n",
              "</table>\n",
              "</div>\n",
              "    <div class=\"colab-df-buttons\">\n",
              "\n",
              "  <div class=\"colab-df-container\">\n",
              "    <button class=\"colab-df-convert\" onclick=\"convertToInteractive('df-dedb3c73-7544-42fc-a161-c0f596deb6a2')\"\n",
              "            title=\"Convert this dataframe to an interactive table.\"\n",
              "            style=\"display:none;\">\n",
              "\n",
              "  <svg xmlns=\"http://www.w3.org/2000/svg\" height=\"24px\" viewBox=\"0 -960 960 960\">\n",
              "    <path d=\"M120-120v-720h720v720H120Zm60-500h600v-160H180v160Zm220 220h160v-160H400v160Zm0 220h160v-160H400v160ZM180-400h160v-160H180v160Zm440 0h160v-160H620v160ZM180-180h160v-160H180v160Zm440 0h160v-160H620v160Z\"/>\n",
              "  </svg>\n",
              "    </button>\n",
              "\n",
              "  <style>\n",
              "    .colab-df-container {\n",
              "      display:flex;\n",
              "      gap: 12px;\n",
              "    }\n",
              "\n",
              "    .colab-df-convert {\n",
              "      background-color: #E8F0FE;\n",
              "      border: none;\n",
              "      border-radius: 50%;\n",
              "      cursor: pointer;\n",
              "      display: none;\n",
              "      fill: #1967D2;\n",
              "      height: 32px;\n",
              "      padding: 0 0 0 0;\n",
              "      width: 32px;\n",
              "    }\n",
              "\n",
              "    .colab-df-convert:hover {\n",
              "      background-color: #E2EBFA;\n",
              "      box-shadow: 0px 1px 2px rgba(60, 64, 67, 0.3), 0px 1px 3px 1px rgba(60, 64, 67, 0.15);\n",
              "      fill: #174EA6;\n",
              "    }\n",
              "\n",
              "    .colab-df-buttons div {\n",
              "      margin-bottom: 4px;\n",
              "    }\n",
              "\n",
              "    [theme=dark] .colab-df-convert {\n",
              "      background-color: #3B4455;\n",
              "      fill: #D2E3FC;\n",
              "    }\n",
              "\n",
              "    [theme=dark] .colab-df-convert:hover {\n",
              "      background-color: #434B5C;\n",
              "      box-shadow: 0px 1px 3px 1px rgba(0, 0, 0, 0.15);\n",
              "      filter: drop-shadow(0px 1px 2px rgba(0, 0, 0, 0.3));\n",
              "      fill: #FFFFFF;\n",
              "    }\n",
              "  </style>\n",
              "\n",
              "    <script>\n",
              "      const buttonEl =\n",
              "        document.querySelector('#df-dedb3c73-7544-42fc-a161-c0f596deb6a2 button.colab-df-convert');\n",
              "      buttonEl.style.display =\n",
              "        google.colab.kernel.accessAllowed ? 'block' : 'none';\n",
              "\n",
              "      async function convertToInteractive(key) {\n",
              "        const element = document.querySelector('#df-dedb3c73-7544-42fc-a161-c0f596deb6a2');\n",
              "        const dataTable =\n",
              "          await google.colab.kernel.invokeFunction('convertToInteractive',\n",
              "                                                    [key], {});\n",
              "        if (!dataTable) return;\n",
              "\n",
              "        const docLinkHtml = 'Like what you see? Visit the ' +\n",
              "          '<a target=\"_blank\" href=https://colab.research.google.com/notebooks/data_table.ipynb>data table notebook</a>'\n",
              "          + ' to learn more about interactive tables.';\n",
              "        element.innerHTML = '';\n",
              "        dataTable['output_type'] = 'display_data';\n",
              "        await google.colab.output.renderOutput(dataTable, element);\n",
              "        const docLink = document.createElement('div');\n",
              "        docLink.innerHTML = docLinkHtml;\n",
              "        element.appendChild(docLink);\n",
              "      }\n",
              "    </script>\n",
              "  </div>\n",
              "\n",
              "\n",
              "<div id=\"df-1f1d3e14-cfe3-4e00-ae6c-d85e9b2aa215\">\n",
              "  <button class=\"colab-df-quickchart\" onclick=\"quickchart('df-1f1d3e14-cfe3-4e00-ae6c-d85e9b2aa215')\"\n",
              "            title=\"Suggest charts.\"\n",
              "            style=\"display:none;\">\n",
              "\n",
              "<svg xmlns=\"http://www.w3.org/2000/svg\" height=\"24px\"viewBox=\"0 0 24 24\"\n",
              "     width=\"24px\">\n",
              "    <g>\n",
              "        <path d=\"M19 3H5c-1.1 0-2 .9-2 2v14c0 1.1.9 2 2 2h14c1.1 0 2-.9 2-2V5c0-1.1-.9-2-2-2zM9 17H7v-7h2v7zm4 0h-2V7h2v10zm4 0h-2v-4h2v4z\"/>\n",
              "    </g>\n",
              "</svg>\n",
              "  </button>\n",
              "\n",
              "<style>\n",
              "  .colab-df-quickchart {\n",
              "    background-color: #E8F0FE;\n",
              "    border: none;\n",
              "    border-radius: 50%;\n",
              "    cursor: pointer;\n",
              "    display: none;\n",
              "    fill: #1967D2;\n",
              "    height: 32px;\n",
              "    padding: 0 0 0 0;\n",
              "    width: 32px;\n",
              "  }\n",
              "\n",
              "  .colab-df-quickchart:hover {\n",
              "    background-color: #E2EBFA;\n",
              "    box-shadow: 0px 1px 2px rgba(60, 64, 67, 0.3), 0px 1px 3px 1px rgba(60, 64, 67, 0.15);\n",
              "    fill: #174EA6;\n",
              "  }\n",
              "\n",
              "  [theme=dark] .colab-df-quickchart {\n",
              "    background-color: #3B4455;\n",
              "    fill: #D2E3FC;\n",
              "  }\n",
              "\n",
              "  [theme=dark] .colab-df-quickchart:hover {\n",
              "    background-color: #434B5C;\n",
              "    box-shadow: 0px 1px 3px 1px rgba(0, 0, 0, 0.15);\n",
              "    filter: drop-shadow(0px 1px 2px rgba(0, 0, 0, 0.3));\n",
              "    fill: #FFFFFF;\n",
              "  }\n",
              "</style>\n",
              "\n",
              "  <script>\n",
              "    async function quickchart(key) {\n",
              "      const charts = await google.colab.kernel.invokeFunction(\n",
              "          'suggestCharts', [key], {});\n",
              "    }\n",
              "    (() => {\n",
              "      let quickchartButtonEl =\n",
              "        document.querySelector('#df-1f1d3e14-cfe3-4e00-ae6c-d85e9b2aa215 button');\n",
              "      quickchartButtonEl.style.display =\n",
              "        google.colab.kernel.accessAllowed ? 'block' : 'none';\n",
              "    })();\n",
              "  </script>\n",
              "</div>\n",
              "    </div>\n",
              "  </div>\n"
            ]
          },
          "metadata": {}
        }
      ],
      "source": [
        "epsilon=1\n",
        "\n",
        "x,d_plus,d_minus,obj_val,flag = solve_problem_gurobi(epsilon,supply_adults,total_population,num_breaks,sub_population,slope,max_utility)\n",
        "gini, obj_val  = restore_values(numPharmacies,x,d_plus,d_minus,obj_val)\n",
        "allocation_result =  pd.DataFrame([],index=range(0,m), columns=['pharmacy_id','n_adults','n_elders','allocation_qty'])\n",
        "print(\"epsilon value is %5.2f\" % epsilon)\n",
        "for i in range(m):\n",
        "    temp_x = 0\n",
        "    for t in range(int(num_breaks[0])):\n",
        "        temp_x = temp_x + x[(i,t)]\n",
        "\n",
        "    allocation_result.iloc[i,0] = pharm_data.iloc[i,0]#i\n",
        "    allocation_result.iloc[i,1] = pharm_data.iloc[i,3]\n",
        "    allocation_result.iloc[i,2] = pharm_data.iloc[i,4]\n",
        "    allocation_result.iloc[i,3] = temp_x\n",
        "\n",
        "display(allocation_result)"
      ]
    },
    {
      "cell_type": "code",
      "execution_count": null,
      "metadata": {
        "colab": {
          "base_uri": "https://localhost:8080/",
          "height": 166
        },
        "id": "rx8-goQ6efJu",
        "outputId": "589e7411-7a1b-49a2-af10-0482b0dbe078"
      },
      "outputs": [
        {
          "output_type": "stream",
          "name": "stdout",
          "text": [
            "epsilon: 0.05\n",
            "supply: 30.0\n",
            "epsilon value is  0.05\n"
          ]
        },
        {
          "output_type": "display_data",
          "data": {
            "text/plain": [
              "  pharmacy_id n_adults n_elders allocation_qty\n",
              "0      jongro    180.0     20.0       20.04329\n",
              "1        jung     70.0     30.0        9.95671"
            ],
            "text/html": [
              "\n",
              "  <div id=\"df-2e1ea001-1806-4167-8afd-02d17aa77d3b\" class=\"colab-df-container\">\n",
              "    <div>\n",
              "<style scoped>\n",
              "    .dataframe tbody tr th:only-of-type {\n",
              "        vertical-align: middle;\n",
              "    }\n",
              "\n",
              "    .dataframe tbody tr th {\n",
              "        vertical-align: top;\n",
              "    }\n",
              "\n",
              "    .dataframe thead th {\n",
              "        text-align: right;\n",
              "    }\n",
              "</style>\n",
              "<table border=\"1\" class=\"dataframe\">\n",
              "  <thead>\n",
              "    <tr style=\"text-align: right;\">\n",
              "      <th></th>\n",
              "      <th>pharmacy_id</th>\n",
              "      <th>n_adults</th>\n",
              "      <th>n_elders</th>\n",
              "      <th>allocation_qty</th>\n",
              "    </tr>\n",
              "  </thead>\n",
              "  <tbody>\n",
              "    <tr>\n",
              "      <th>0</th>\n",
              "      <td>jongro</td>\n",
              "      <td>180.0</td>\n",
              "      <td>20.0</td>\n",
              "      <td>20.04329</td>\n",
              "    </tr>\n",
              "    <tr>\n",
              "      <th>1</th>\n",
              "      <td>jung</td>\n",
              "      <td>70.0</td>\n",
              "      <td>30.0</td>\n",
              "      <td>9.95671</td>\n",
              "    </tr>\n",
              "  </tbody>\n",
              "</table>\n",
              "</div>\n",
              "    <div class=\"colab-df-buttons\">\n",
              "\n",
              "  <div class=\"colab-df-container\">\n",
              "    <button class=\"colab-df-convert\" onclick=\"convertToInteractive('df-2e1ea001-1806-4167-8afd-02d17aa77d3b')\"\n",
              "            title=\"Convert this dataframe to an interactive table.\"\n",
              "            style=\"display:none;\">\n",
              "\n",
              "  <svg xmlns=\"http://www.w3.org/2000/svg\" height=\"24px\" viewBox=\"0 -960 960 960\">\n",
              "    <path d=\"M120-120v-720h720v720H120Zm60-500h600v-160H180v160Zm220 220h160v-160H400v160Zm0 220h160v-160H400v160ZM180-400h160v-160H180v160Zm440 0h160v-160H620v160ZM180-180h160v-160H180v160Zm440 0h160v-160H620v160Z\"/>\n",
              "  </svg>\n",
              "    </button>\n",
              "\n",
              "  <style>\n",
              "    .colab-df-container {\n",
              "      display:flex;\n",
              "      gap: 12px;\n",
              "    }\n",
              "\n",
              "    .colab-df-convert {\n",
              "      background-color: #E8F0FE;\n",
              "      border: none;\n",
              "      border-radius: 50%;\n",
              "      cursor: pointer;\n",
              "      display: none;\n",
              "      fill: #1967D2;\n",
              "      height: 32px;\n",
              "      padding: 0 0 0 0;\n",
              "      width: 32px;\n",
              "    }\n",
              "\n",
              "    .colab-df-convert:hover {\n",
              "      background-color: #E2EBFA;\n",
              "      box-shadow: 0px 1px 2px rgba(60, 64, 67, 0.3), 0px 1px 3px 1px rgba(60, 64, 67, 0.15);\n",
              "      fill: #174EA6;\n",
              "    }\n",
              "\n",
              "    .colab-df-buttons div {\n",
              "      margin-bottom: 4px;\n",
              "    }\n",
              "\n",
              "    [theme=dark] .colab-df-convert {\n",
              "      background-color: #3B4455;\n",
              "      fill: #D2E3FC;\n",
              "    }\n",
              "\n",
              "    [theme=dark] .colab-df-convert:hover {\n",
              "      background-color: #434B5C;\n",
              "      box-shadow: 0px 1px 3px 1px rgba(0, 0, 0, 0.15);\n",
              "      filter: drop-shadow(0px 1px 2px rgba(0, 0, 0, 0.3));\n",
              "      fill: #FFFFFF;\n",
              "    }\n",
              "  </style>\n",
              "\n",
              "    <script>\n",
              "      const buttonEl =\n",
              "        document.querySelector('#df-2e1ea001-1806-4167-8afd-02d17aa77d3b button.colab-df-convert');\n",
              "      buttonEl.style.display =\n",
              "        google.colab.kernel.accessAllowed ? 'block' : 'none';\n",
              "\n",
              "      async function convertToInteractive(key) {\n",
              "        const element = document.querySelector('#df-2e1ea001-1806-4167-8afd-02d17aa77d3b');\n",
              "        const dataTable =\n",
              "          await google.colab.kernel.invokeFunction('convertToInteractive',\n",
              "                                                    [key], {});\n",
              "        if (!dataTable) return;\n",
              "\n",
              "        const docLinkHtml = 'Like what you see? Visit the ' +\n",
              "          '<a target=\"_blank\" href=https://colab.research.google.com/notebooks/data_table.ipynb>data table notebook</a>'\n",
              "          + ' to learn more about interactive tables.';\n",
              "        element.innerHTML = '';\n",
              "        dataTable['output_type'] = 'display_data';\n",
              "        await google.colab.output.renderOutput(dataTable, element);\n",
              "        const docLink = document.createElement('div');\n",
              "        docLink.innerHTML = docLinkHtml;\n",
              "        element.appendChild(docLink);\n",
              "      }\n",
              "    </script>\n",
              "  </div>\n",
              "\n",
              "\n",
              "<div id=\"df-a7741c26-02b3-4fb9-b0c7-422c84bc55cc\">\n",
              "  <button class=\"colab-df-quickchart\" onclick=\"quickchart('df-a7741c26-02b3-4fb9-b0c7-422c84bc55cc')\"\n",
              "            title=\"Suggest charts.\"\n",
              "            style=\"display:none;\">\n",
              "\n",
              "<svg xmlns=\"http://www.w3.org/2000/svg\" height=\"24px\"viewBox=\"0 0 24 24\"\n",
              "     width=\"24px\">\n",
              "    <g>\n",
              "        <path d=\"M19 3H5c-1.1 0-2 .9-2 2v14c0 1.1.9 2 2 2h14c1.1 0 2-.9 2-2V5c0-1.1-.9-2-2-2zM9 17H7v-7h2v7zm4 0h-2V7h2v10zm4 0h-2v-4h2v4z\"/>\n",
              "    </g>\n",
              "</svg>\n",
              "  </button>\n",
              "\n",
              "<style>\n",
              "  .colab-df-quickchart {\n",
              "    background-color: #E8F0FE;\n",
              "    border: none;\n",
              "    border-radius: 50%;\n",
              "    cursor: pointer;\n",
              "    display: none;\n",
              "    fill: #1967D2;\n",
              "    height: 32px;\n",
              "    padding: 0 0 0 0;\n",
              "    width: 32px;\n",
              "  }\n",
              "\n",
              "  .colab-df-quickchart:hover {\n",
              "    background-color: #E2EBFA;\n",
              "    box-shadow: 0px 1px 2px rgba(60, 64, 67, 0.3), 0px 1px 3px 1px rgba(60, 64, 67, 0.15);\n",
              "    fill: #174EA6;\n",
              "  }\n",
              "\n",
              "  [theme=dark] .colab-df-quickchart {\n",
              "    background-color: #3B4455;\n",
              "    fill: #D2E3FC;\n",
              "  }\n",
              "\n",
              "  [theme=dark] .colab-df-quickchart:hover {\n",
              "    background-color: #434B5C;\n",
              "    box-shadow: 0px 1px 3px 1px rgba(0, 0, 0, 0.15);\n",
              "    filter: drop-shadow(0px 1px 2px rgba(0, 0, 0, 0.3));\n",
              "    fill: #FFFFFF;\n",
              "  }\n",
              "</style>\n",
              "\n",
              "  <script>\n",
              "    async function quickchart(key) {\n",
              "      const charts = await google.colab.kernel.invokeFunction(\n",
              "          'suggestCharts', [key], {});\n",
              "    }\n",
              "    (() => {\n",
              "      let quickchartButtonEl =\n",
              "        document.querySelector('#df-a7741c26-02b3-4fb9-b0c7-422c84bc55cc button');\n",
              "      quickchartButtonEl.style.display =\n",
              "        google.colab.kernel.accessAllowed ? 'block' : 'none';\n",
              "    })();\n",
              "  </script>\n",
              "</div>\n",
              "    </div>\n",
              "  </div>\n"
            ]
          },
          "metadata": {}
        }
      ],
      "source": [
        "  epsilon=0.05\n",
        "x,d_plus,d_minus,obj_val,flag = solve_problem_gurobi(epsilon,supply_adults,total_population,num_breaks,sub_population,slope,max_utility)\n",
        "gini, obj_val  = restore_values(numPharmacies,x,d_plus,d_minus,obj_val)\n",
        "allocation_result =  pd.DataFrame([],index=range(0,m), columns=['pharmacy_id','n_adults','n_elders','allocation_qty'])\n",
        "print(\"epsilon value is %5.2f\" % epsilon)\n",
        "for i in range(m):\n",
        "    temp_x = 0\n",
        "    for t in range(int(num_breaks[0])):\n",
        "        temp_x = temp_x + x[(i,t)]\n",
        "\n",
        "    allocation_result.iloc[i,0] = pharm_data.iloc[i,0]#i\n",
        "    allocation_result.iloc[i,1] = pharm_data.iloc[i,3]\n",
        "    allocation_result.iloc[i,2] = pharm_data.iloc[i,4]\n",
        "    allocation_result.iloc[i,3] = temp_x\n",
        "\n",
        "display(allocation_result)\n"
      ]
    },
    {
      "cell_type": "markdown",
      "metadata": {
        "id": "vK8o4dvvefJu"
      },
      "source": [
        "## limitation\n",
        "- there is no guarantee that the higher priority purchase the mask in order\n",
        "- however, we also assume that the customers randomly walked in the pharmacies. This implies the the customer will obtain the mask on average."
      ]
    },
    {
      "cell_type": "markdown",
      "source": [
        "# Alternative model\n",
        "\n",
        "*   Only consider utility in the model\n",
        "\n"
      ],
      "metadata": {
        "id": "wlo-gJxWOGaT"
      }
    },
    {
      "cell_type": "code",
      "source": [
        "def solve_problem_gurobi_utility(supply, total_population, num_breaks, sub_population, slope, max_utility):\n",
        "    import gurobipy as gp\n",
        "    m = gp.Env(empty=True)\n",
        "    m.setParam('WLSACCESSID', '54ea4edc-45f3-4ac2-b06f-cc4809a3c06c')\n",
        "    m.setParam('WLSSECRET', '2802dfc5-13c3-4ceb-b6c2-b217b0d5994a')\n",
        "    m.setParam('LICENSEID', 947226)\n",
        "    m.setParam(\"OutputFlag\", 0) #add by CHP\n",
        "    m.start()\n",
        "\n",
        "    print(\"epsilon: \"+str(epsilon))\n",
        "    print(\"supply: \" + str(supply))\n",
        "\n",
        "\n",
        "    flag = 1  # if optimal solution is found: 0, otherwise 1.\n",
        "    numPharmacies = total_population.shape[0]  # number of pharmacies\n",
        "    N = [i for i in range(numPharmacies)]  # define set\n",
        "    M = [i for i in range(int(num_breaks[0]))]  # define set for break points\n",
        "    A = [(i, t) for i in range(numPharmacies) for t in range(int(num_breaks[0]))]  # define set for x_i^t\n",
        "    B = [(j, k) for j in range(numPharmacies) for k in range(numPharmacies) if k > j]\n",
        "\n",
        "    #mdl = Model(\"lp\")\n",
        "    mdl = gp.Model(env=m)\n",
        "\n",
        "    # define variables\n",
        "    x = mdl.addVars(A, name='x', lb=0.0, vtype=GRB.CONTINUOUS)\n",
        "\n",
        "    # define objective function\n",
        "    mdl.setObjective(sum(slope[i, t] * x[i, t] for i, t in A), GRB.MAXIMIZE)\n",
        "\n",
        "    # define constraints\n",
        "    mdl.addConstr(sum(x[i, t] for i, t in A) <= supply, \"constraint1\")\n",
        "    for i, t in A:\n",
        "        mdl.addConstr(x[i, t] <= sub_population[i, t])\n",
        "    for i in N:\n",
        "        mdl.addConstr(sum(x[i, t] for t in M) <= total_population[i], \"constraint2_%d\" % i)\n",
        "\n",
        "    mdl.setParam(\"OutputFlag\", 0)  # Suppress Gurobi output\n",
        "\n",
        "    mdl.optimize()\n",
        "\n",
        "    #x_sol = {i: {t: x[i, t].X for t in range(int(num_breaks[0]))} for i in range(numPharmacies)}\n",
        "    x_sol = {(i, t): x[i, t].X for i, t in A}\n",
        "    x_sol_list = list(x_sol.values())\n",
        "    flag = mdl.Status\n",
        "    optObj = mdl.ObjVal\n",
        "\n",
        "    return x_sol, optObj, flag"
      ],
      "metadata": {
        "id": "hw2mGl2jOUlc"
      },
      "execution_count": null,
      "outputs": []
    },
    {
      "cell_type": "code",
      "source": [
        "x,obj_val,flag = solve_problem_gurobi_utility(supply_adults,total_population,num_breaks,sub_population,slope,max_utility)\n",
        "print(\"Total utility:\" + str(obj_val))\n",
        "for i in range(numPharmacies):\n",
        "    temp_x = 0\n",
        "    for t in range(int(num_breaks[0])):\n",
        "        temp_x = temp_x + x[(i,t)]\n",
        "\n",
        "    allocation_result.iloc[i,0] = pharm_data.iloc[i,0]#i\n",
        "    allocation_result.iloc[i,1] = pharm_data.iloc[i,3]\n",
        "    allocation_result.iloc[i,2] = pharm_data.iloc[i,4]\n",
        "    allocation_result.iloc[i,3] = temp_x\n",
        "\n",
        "display(allocation_result)"
      ],
      "metadata": {
        "colab": {
          "base_uri": "https://localhost:8080/",
          "height": 166
        },
        "id": "lX9xg2v6PIcY",
        "outputId": "e7c38eb2-64f8-4abd-ed9e-52c019d1686d"
      },
      "execution_count": null,
      "outputs": [
        {
          "output_type": "stream",
          "name": "stdout",
          "text": [
            "epsilon: 0.05\n",
            "supply: 30.0\n",
            "Total utility:75.0\n"
          ]
        },
        {
          "output_type": "display_data",
          "data": {
            "text/plain": [
              "  pharmacy_id n_adults n_elders allocation_qty\n",
              "0      jongro    180.0     20.0            0.0\n",
              "1        jung     70.0     30.0           30.0"
            ],
            "text/html": [
              "\n",
              "  <div id=\"df-82d82287-ab01-4b30-9bdf-774b410630da\" class=\"colab-df-container\">\n",
              "    <div>\n",
              "<style scoped>\n",
              "    .dataframe tbody tr th:only-of-type {\n",
              "        vertical-align: middle;\n",
              "    }\n",
              "\n",
              "    .dataframe tbody tr th {\n",
              "        vertical-align: top;\n",
              "    }\n",
              "\n",
              "    .dataframe thead th {\n",
              "        text-align: right;\n",
              "    }\n",
              "</style>\n",
              "<table border=\"1\" class=\"dataframe\">\n",
              "  <thead>\n",
              "    <tr style=\"text-align: right;\">\n",
              "      <th></th>\n",
              "      <th>pharmacy_id</th>\n",
              "      <th>n_adults</th>\n",
              "      <th>n_elders</th>\n",
              "      <th>allocation_qty</th>\n",
              "    </tr>\n",
              "  </thead>\n",
              "  <tbody>\n",
              "    <tr>\n",
              "      <th>0</th>\n",
              "      <td>jongro</td>\n",
              "      <td>180.0</td>\n",
              "      <td>20.0</td>\n",
              "      <td>0.0</td>\n",
              "    </tr>\n",
              "    <tr>\n",
              "      <th>1</th>\n",
              "      <td>jung</td>\n",
              "      <td>70.0</td>\n",
              "      <td>30.0</td>\n",
              "      <td>30.0</td>\n",
              "    </tr>\n",
              "  </tbody>\n",
              "</table>\n",
              "</div>\n",
              "    <div class=\"colab-df-buttons\">\n",
              "\n",
              "  <div class=\"colab-df-container\">\n",
              "    <button class=\"colab-df-convert\" onclick=\"convertToInteractive('df-82d82287-ab01-4b30-9bdf-774b410630da')\"\n",
              "            title=\"Convert this dataframe to an interactive table.\"\n",
              "            style=\"display:none;\">\n",
              "\n",
              "  <svg xmlns=\"http://www.w3.org/2000/svg\" height=\"24px\" viewBox=\"0 -960 960 960\">\n",
              "    <path d=\"M120-120v-720h720v720H120Zm60-500h600v-160H180v160Zm220 220h160v-160H400v160Zm0 220h160v-160H400v160ZM180-400h160v-160H180v160Zm440 0h160v-160H620v160ZM180-180h160v-160H180v160Zm440 0h160v-160H620v160Z\"/>\n",
              "  </svg>\n",
              "    </button>\n",
              "\n",
              "  <style>\n",
              "    .colab-df-container {\n",
              "      display:flex;\n",
              "      gap: 12px;\n",
              "    }\n",
              "\n",
              "    .colab-df-convert {\n",
              "      background-color: #E8F0FE;\n",
              "      border: none;\n",
              "      border-radius: 50%;\n",
              "      cursor: pointer;\n",
              "      display: none;\n",
              "      fill: #1967D2;\n",
              "      height: 32px;\n",
              "      padding: 0 0 0 0;\n",
              "      width: 32px;\n",
              "    }\n",
              "\n",
              "    .colab-df-convert:hover {\n",
              "      background-color: #E2EBFA;\n",
              "      box-shadow: 0px 1px 2px rgba(60, 64, 67, 0.3), 0px 1px 3px 1px rgba(60, 64, 67, 0.15);\n",
              "      fill: #174EA6;\n",
              "    }\n",
              "\n",
              "    .colab-df-buttons div {\n",
              "      margin-bottom: 4px;\n",
              "    }\n",
              "\n",
              "    [theme=dark] .colab-df-convert {\n",
              "      background-color: #3B4455;\n",
              "      fill: #D2E3FC;\n",
              "    }\n",
              "\n",
              "    [theme=dark] .colab-df-convert:hover {\n",
              "      background-color: #434B5C;\n",
              "      box-shadow: 0px 1px 3px 1px rgba(0, 0, 0, 0.15);\n",
              "      filter: drop-shadow(0px 1px 2px rgba(0, 0, 0, 0.3));\n",
              "      fill: #FFFFFF;\n",
              "    }\n",
              "  </style>\n",
              "\n",
              "    <script>\n",
              "      const buttonEl =\n",
              "        document.querySelector('#df-82d82287-ab01-4b30-9bdf-774b410630da button.colab-df-convert');\n",
              "      buttonEl.style.display =\n",
              "        google.colab.kernel.accessAllowed ? 'block' : 'none';\n",
              "\n",
              "      async function convertToInteractive(key) {\n",
              "        const element = document.querySelector('#df-82d82287-ab01-4b30-9bdf-774b410630da');\n",
              "        const dataTable =\n",
              "          await google.colab.kernel.invokeFunction('convertToInteractive',\n",
              "                                                    [key], {});\n",
              "        if (!dataTable) return;\n",
              "\n",
              "        const docLinkHtml = 'Like what you see? Visit the ' +\n",
              "          '<a target=\"_blank\" href=https://colab.research.google.com/notebooks/data_table.ipynb>data table notebook</a>'\n",
              "          + ' to learn more about interactive tables.';\n",
              "        element.innerHTML = '';\n",
              "        dataTable['output_type'] = 'display_data';\n",
              "        await google.colab.output.renderOutput(dataTable, element);\n",
              "        const docLink = document.createElement('div');\n",
              "        docLink.innerHTML = docLinkHtml;\n",
              "        element.appendChild(docLink);\n",
              "      }\n",
              "    </script>\n",
              "  </div>\n",
              "\n",
              "\n",
              "<div id=\"df-19816f35-3cfe-4fbf-b871-5dd3620d4e79\">\n",
              "  <button class=\"colab-df-quickchart\" onclick=\"quickchart('df-19816f35-3cfe-4fbf-b871-5dd3620d4e79')\"\n",
              "            title=\"Suggest charts.\"\n",
              "            style=\"display:none;\">\n",
              "\n",
              "<svg xmlns=\"http://www.w3.org/2000/svg\" height=\"24px\"viewBox=\"0 0 24 24\"\n",
              "     width=\"24px\">\n",
              "    <g>\n",
              "        <path d=\"M19 3H5c-1.1 0-2 .9-2 2v14c0 1.1.9 2 2 2h14c1.1 0 2-.9 2-2V5c0-1.1-.9-2-2-2zM9 17H7v-7h2v7zm4 0h-2V7h2v10zm4 0h-2v-4h2v4z\"/>\n",
              "    </g>\n",
              "</svg>\n",
              "  </button>\n",
              "\n",
              "<style>\n",
              "  .colab-df-quickchart {\n",
              "    background-color: #E8F0FE;\n",
              "    border: none;\n",
              "    border-radius: 50%;\n",
              "    cursor: pointer;\n",
              "    display: none;\n",
              "    fill: #1967D2;\n",
              "    height: 32px;\n",
              "    padding: 0 0 0 0;\n",
              "    width: 32px;\n",
              "  }\n",
              "\n",
              "  .colab-df-quickchart:hover {\n",
              "    background-color: #E2EBFA;\n",
              "    box-shadow: 0px 1px 2px rgba(60, 64, 67, 0.3), 0px 1px 3px 1px rgba(60, 64, 67, 0.15);\n",
              "    fill: #174EA6;\n",
              "  }\n",
              "\n",
              "  [theme=dark] .colab-df-quickchart {\n",
              "    background-color: #3B4455;\n",
              "    fill: #D2E3FC;\n",
              "  }\n",
              "\n",
              "  [theme=dark] .colab-df-quickchart:hover {\n",
              "    background-color: #434B5C;\n",
              "    box-shadow: 0px 1px 3px 1px rgba(0, 0, 0, 0.15);\n",
              "    filter: drop-shadow(0px 1px 2px rgba(0, 0, 0, 0.3));\n",
              "    fill: #FFFFFF;\n",
              "  }\n",
              "</style>\n",
              "\n",
              "  <script>\n",
              "    async function quickchart(key) {\n",
              "      const charts = await google.colab.kernel.invokeFunction(\n",
              "          'suggestCharts', [key], {});\n",
              "    }\n",
              "    (() => {\n",
              "      let quickchartButtonEl =\n",
              "        document.querySelector('#df-19816f35-3cfe-4fbf-b871-5dd3620d4e79 button');\n",
              "      quickchartButtonEl.style.display =\n",
              "        google.colab.kernel.accessAllowed ? 'block' : 'none';\n",
              "    })();\n",
              "  </script>\n",
              "</div>\n",
              "    </div>\n",
              "  </div>\n"
            ]
          },
          "metadata": {}
        }
      ]
    },
    {
      "cell_type": "code",
      "source": [],
      "metadata": {
        "id": "tkm4PneWP4HM"
      },
      "execution_count": null,
      "outputs": []
    },
    {
      "cell_type": "markdown",
      "source": [
        "Check whether the solution is equal to the gini model with e=1.0"
      ],
      "metadata": {
        "id": "KlHr8foPQArW"
      }
    },
    {
      "cell_type": "code",
      "source": [
        "epsilon=1.0\n",
        "x,d_plus,d_minus,obj_val,flag = solve_problem_gurobi(epsilon,supply_adults,total_population,num_breaks,sub_population,slope,max_utility)\n",
        "gini, obj_val  = restore_values(numPharmacies,x,d_plus,d_minus,obj_val)\n",
        "allocation_result =  pd.DataFrame([],index=range(0,m), columns=['pharmacy_id','n_adults','n_elders','allocation_qty'])\n",
        "print(\"epsilon value is %5.2f\" % epsilon)\n",
        "print(\"Total utility:\" + str(obj_val))\n",
        "for i in range(m):\n",
        "    temp_x = 0\n",
        "    for t in range(int(num_breaks[0])):\n",
        "        temp_x = temp_x + x[(i,t)]\n",
        "\n",
        "    allocation_result.iloc[i,0] = pharm_data.iloc[i,0]#i\n",
        "    allocation_result.iloc[i,1] = pharm_data.iloc[i,3]\n",
        "    allocation_result.iloc[i,2] = pharm_data.iloc[i,4]\n",
        "    allocation_result.iloc[i,3] = temp_x\n",
        "\n",
        "display(allocation_result)"
      ],
      "metadata": {
        "colab": {
          "base_uri": "https://localhost:8080/",
          "height": 184
        },
        "id": "buk1L1HwQJ--",
        "outputId": "1cb1480a-5e96-41ba-e5b9-29497d315189"
      },
      "execution_count": null,
      "outputs": [
        {
          "output_type": "stream",
          "name": "stdout",
          "text": [
            "epsilon: 1.0\n",
            "supply: 30.0\n",
            "epsilon value is  1.00\n",
            "Total utility:75.0\n"
          ]
        },
        {
          "output_type": "display_data",
          "data": {
            "text/plain": [
              "  pharmacy_id n_adults n_elders allocation_qty\n",
              "0      jongro    180.0     20.0            0.0\n",
              "1        jung     70.0     30.0           30.0"
            ],
            "text/html": [
              "\n",
              "  <div id=\"df-97ba4788-3bc0-42e7-985b-0b2c50568d3b\" class=\"colab-df-container\">\n",
              "    <div>\n",
              "<style scoped>\n",
              "    .dataframe tbody tr th:only-of-type {\n",
              "        vertical-align: middle;\n",
              "    }\n",
              "\n",
              "    .dataframe tbody tr th {\n",
              "        vertical-align: top;\n",
              "    }\n",
              "\n",
              "    .dataframe thead th {\n",
              "        text-align: right;\n",
              "    }\n",
              "</style>\n",
              "<table border=\"1\" class=\"dataframe\">\n",
              "  <thead>\n",
              "    <tr style=\"text-align: right;\">\n",
              "      <th></th>\n",
              "      <th>pharmacy_id</th>\n",
              "      <th>n_adults</th>\n",
              "      <th>n_elders</th>\n",
              "      <th>allocation_qty</th>\n",
              "    </tr>\n",
              "  </thead>\n",
              "  <tbody>\n",
              "    <tr>\n",
              "      <th>0</th>\n",
              "      <td>jongro</td>\n",
              "      <td>180.0</td>\n",
              "      <td>20.0</td>\n",
              "      <td>0.0</td>\n",
              "    </tr>\n",
              "    <tr>\n",
              "      <th>1</th>\n",
              "      <td>jung</td>\n",
              "      <td>70.0</td>\n",
              "      <td>30.0</td>\n",
              "      <td>30.0</td>\n",
              "    </tr>\n",
              "  </tbody>\n",
              "</table>\n",
              "</div>\n",
              "    <div class=\"colab-df-buttons\">\n",
              "\n",
              "  <div class=\"colab-df-container\">\n",
              "    <button class=\"colab-df-convert\" onclick=\"convertToInteractive('df-97ba4788-3bc0-42e7-985b-0b2c50568d3b')\"\n",
              "            title=\"Convert this dataframe to an interactive table.\"\n",
              "            style=\"display:none;\">\n",
              "\n",
              "  <svg xmlns=\"http://www.w3.org/2000/svg\" height=\"24px\" viewBox=\"0 -960 960 960\">\n",
              "    <path d=\"M120-120v-720h720v720H120Zm60-500h600v-160H180v160Zm220 220h160v-160H400v160Zm0 220h160v-160H400v160ZM180-400h160v-160H180v160Zm440 0h160v-160H620v160ZM180-180h160v-160H180v160Zm440 0h160v-160H620v160Z\"/>\n",
              "  </svg>\n",
              "    </button>\n",
              "\n",
              "  <style>\n",
              "    .colab-df-container {\n",
              "      display:flex;\n",
              "      gap: 12px;\n",
              "    }\n",
              "\n",
              "    .colab-df-convert {\n",
              "      background-color: #E8F0FE;\n",
              "      border: none;\n",
              "      border-radius: 50%;\n",
              "      cursor: pointer;\n",
              "      display: none;\n",
              "      fill: #1967D2;\n",
              "      height: 32px;\n",
              "      padding: 0 0 0 0;\n",
              "      width: 32px;\n",
              "    }\n",
              "\n",
              "    .colab-df-convert:hover {\n",
              "      background-color: #E2EBFA;\n",
              "      box-shadow: 0px 1px 2px rgba(60, 64, 67, 0.3), 0px 1px 3px 1px rgba(60, 64, 67, 0.15);\n",
              "      fill: #174EA6;\n",
              "    }\n",
              "\n",
              "    .colab-df-buttons div {\n",
              "      margin-bottom: 4px;\n",
              "    }\n",
              "\n",
              "    [theme=dark] .colab-df-convert {\n",
              "      background-color: #3B4455;\n",
              "      fill: #D2E3FC;\n",
              "    }\n",
              "\n",
              "    [theme=dark] .colab-df-convert:hover {\n",
              "      background-color: #434B5C;\n",
              "      box-shadow: 0px 1px 3px 1px rgba(0, 0, 0, 0.15);\n",
              "      filter: drop-shadow(0px 1px 2px rgba(0, 0, 0, 0.3));\n",
              "      fill: #FFFFFF;\n",
              "    }\n",
              "  </style>\n",
              "\n",
              "    <script>\n",
              "      const buttonEl =\n",
              "        document.querySelector('#df-97ba4788-3bc0-42e7-985b-0b2c50568d3b button.colab-df-convert');\n",
              "      buttonEl.style.display =\n",
              "        google.colab.kernel.accessAllowed ? 'block' : 'none';\n",
              "\n",
              "      async function convertToInteractive(key) {\n",
              "        const element = document.querySelector('#df-97ba4788-3bc0-42e7-985b-0b2c50568d3b');\n",
              "        const dataTable =\n",
              "          await google.colab.kernel.invokeFunction('convertToInteractive',\n",
              "                                                    [key], {});\n",
              "        if (!dataTable) return;\n",
              "\n",
              "        const docLinkHtml = 'Like what you see? Visit the ' +\n",
              "          '<a target=\"_blank\" href=https://colab.research.google.com/notebooks/data_table.ipynb>data table notebook</a>'\n",
              "          + ' to learn more about interactive tables.';\n",
              "        element.innerHTML = '';\n",
              "        dataTable['output_type'] = 'display_data';\n",
              "        await google.colab.output.renderOutput(dataTable, element);\n",
              "        const docLink = document.createElement('div');\n",
              "        docLink.innerHTML = docLinkHtml;\n",
              "        element.appendChild(docLink);\n",
              "      }\n",
              "    </script>\n",
              "  </div>\n",
              "\n",
              "\n",
              "<div id=\"df-56a0e6f0-dabb-49cf-aecc-a2891a3de36a\">\n",
              "  <button class=\"colab-df-quickchart\" onclick=\"quickchart('df-56a0e6f0-dabb-49cf-aecc-a2891a3de36a')\"\n",
              "            title=\"Suggest charts.\"\n",
              "            style=\"display:none;\">\n",
              "\n",
              "<svg xmlns=\"http://www.w3.org/2000/svg\" height=\"24px\"viewBox=\"0 0 24 24\"\n",
              "     width=\"24px\">\n",
              "    <g>\n",
              "        <path d=\"M19 3H5c-1.1 0-2 .9-2 2v14c0 1.1.9 2 2 2h14c1.1 0 2-.9 2-2V5c0-1.1-.9-2-2-2zM9 17H7v-7h2v7zm4 0h-2V7h2v10zm4 0h-2v-4h2v4z\"/>\n",
              "    </g>\n",
              "</svg>\n",
              "  </button>\n",
              "\n",
              "<style>\n",
              "  .colab-df-quickchart {\n",
              "    background-color: #E8F0FE;\n",
              "    border: none;\n",
              "    border-radius: 50%;\n",
              "    cursor: pointer;\n",
              "    display: none;\n",
              "    fill: #1967D2;\n",
              "    height: 32px;\n",
              "    padding: 0 0 0 0;\n",
              "    width: 32px;\n",
              "  }\n",
              "\n",
              "  .colab-df-quickchart:hover {\n",
              "    background-color: #E2EBFA;\n",
              "    box-shadow: 0px 1px 2px rgba(60, 64, 67, 0.3), 0px 1px 3px 1px rgba(60, 64, 67, 0.15);\n",
              "    fill: #174EA6;\n",
              "  }\n",
              "\n",
              "  [theme=dark] .colab-df-quickchart {\n",
              "    background-color: #3B4455;\n",
              "    fill: #D2E3FC;\n",
              "  }\n",
              "\n",
              "  [theme=dark] .colab-df-quickchart:hover {\n",
              "    background-color: #434B5C;\n",
              "    box-shadow: 0px 1px 3px 1px rgba(0, 0, 0, 0.15);\n",
              "    filter: drop-shadow(0px 1px 2px rgba(0, 0, 0, 0.3));\n",
              "    fill: #FFFFFF;\n",
              "  }\n",
              "</style>\n",
              "\n",
              "  <script>\n",
              "    async function quickchart(key) {\n",
              "      const charts = await google.colab.kernel.invokeFunction(\n",
              "          'suggestCharts', [key], {});\n",
              "    }\n",
              "    (() => {\n",
              "      let quickchartButtonEl =\n",
              "        document.querySelector('#df-56a0e6f0-dabb-49cf-aecc-a2891a3de36a button');\n",
              "      quickchartButtonEl.style.display =\n",
              "        google.colab.kernel.accessAllowed ? 'block' : 'none';\n",
              "    })();\n",
              "  </script>\n",
              "</div>\n",
              "    </div>\n",
              "  </div>\n"
            ]
          },
          "metadata": {}
        }
      ]
    },
    {
      "cell_type": "code",
      "source": [],
      "metadata": {
        "id": "fBpZxq6PQLjw"
      },
      "execution_count": null,
      "outputs": []
    }
  ],
  "metadata": {
    "kernelspec": {
      "display_name": "Python 3",
      "language": "python",
      "name": "python3"
    },
    "language_info": {
      "codemirror_mode": {
        "name": "ipython",
        "version": 3
      },
      "file_extension": ".py",
      "mimetype": "text/x-python",
      "name": "python",
      "nbconvert_exporter": "python",
      "pygments_lexer": "ipython3",
      "version": "3.6.5"
    },
    "colab": {
      "provenance": []
    }
  },
  "nbformat": 4,
  "nbformat_minor": 0
}