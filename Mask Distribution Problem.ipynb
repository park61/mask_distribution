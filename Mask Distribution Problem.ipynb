{
 "cells": [
  {
   "cell_type": "markdown",
   "metadata": {},
   "source": [
    "# Mask Distribution Problem\n",
    "- Essencially we solve two separate problems; 1) mask for young population and 2) mask for adults population\n",
    "- Assumption: the total supply is insuffienct to satisfy all demands from the pharmacy\n",
    "- Objective 1: maximize the total utility (for social welfare)\n",
    "- Objecitve 2: minimize the total inequity (for fairness)"
   ]
  },
  {
   "cell_type": "markdown",
   "metadata": {},
   "source": [
    "## Read data from csv file"
   ]
  },
  {
   "cell_type": "code",
   "execution_count": 12,
   "metadata": {},
   "outputs": [
    {
     "data": {
      "text/html": [
       "<div>\n",
       "<style scoped>\n",
       "    .dataframe tbody tr th:only-of-type {\n",
       "        vertical-align: middle;\n",
       "    }\n",
       "\n",
       "    .dataframe tbody tr th {\n",
       "        vertical-align: top;\n",
       "    }\n",
       "\n",
       "    .dataframe thead th {\n",
       "        text-align: right;\n",
       "    }\n",
       "</style>\n",
       "<table border=\"1\" class=\"dataframe\">\n",
       "  <thead>\n",
       "    <tr style=\"text-align: right;\">\n",
       "      <th></th>\n",
       "      <th>location_id</th>\n",
       "      <th>address_1</th>\n",
       "      <th>address_2</th>\n",
       "      <th>address_3</th>\n",
       "      <th>n_pharmacies</th>\n",
       "      <th>n_young</th>\n",
       "      <th>n_adults</th>\n",
       "      <th>n_elders</th>\n",
       "      <th>intensity</th>\n",
       "    </tr>\n",
       "  </thead>\n",
       "  <tbody>\n",
       "    <tr>\n",
       "      <td>0</td>\n",
       "      <td>1</td>\n",
       "      <td>1</td>\n",
       "      <td>1</td>\n",
       "      <td>1</td>\n",
       "      <td>5</td>\n",
       "      <td>402</td>\n",
       "      <td>2206</td>\n",
       "      <td>116</td>\n",
       "      <td>0.656476</td>\n",
       "    </tr>\n",
       "    <tr>\n",
       "      <td>1</td>\n",
       "      <td>2</td>\n",
       "      <td>1</td>\n",
       "      <td>1</td>\n",
       "      <td>2</td>\n",
       "      <td>3</td>\n",
       "      <td>530</td>\n",
       "      <td>2865</td>\n",
       "      <td>807</td>\n",
       "      <td>0.766949</td>\n",
       "    </tr>\n",
       "    <tr>\n",
       "      <td>2</td>\n",
       "      <td>3</td>\n",
       "      <td>1</td>\n",
       "      <td>1</td>\n",
       "      <td>3</td>\n",
       "      <td>4</td>\n",
       "      <td>300</td>\n",
       "      <td>2248</td>\n",
       "      <td>900</td>\n",
       "      <td>0.352150</td>\n",
       "    </tr>\n",
       "    <tr>\n",
       "      <td>3</td>\n",
       "      <td>4</td>\n",
       "      <td>1</td>\n",
       "      <td>2</td>\n",
       "      <td>1</td>\n",
       "      <td>4</td>\n",
       "      <td>960</td>\n",
       "      <td>2892</td>\n",
       "      <td>538</td>\n",
       "      <td>0.450202</td>\n",
       "    </tr>\n",
       "    <tr>\n",
       "      <td>4</td>\n",
       "      <td>5</td>\n",
       "      <td>1</td>\n",
       "      <td>2</td>\n",
       "      <td>2</td>\n",
       "      <td>5</td>\n",
       "      <td>129</td>\n",
       "      <td>882</td>\n",
       "      <td>289</td>\n",
       "      <td>0.757943</td>\n",
       "    </tr>\n",
       "    <tr>\n",
       "      <td>5</td>\n",
       "      <td>6</td>\n",
       "      <td>2</td>\n",
       "      <td>1</td>\n",
       "      <td>1</td>\n",
       "      <td>2</td>\n",
       "      <td>196</td>\n",
       "      <td>1311</td>\n",
       "      <td>296</td>\n",
       "      <td>0.574397</td>\n",
       "    </tr>\n",
       "    <tr>\n",
       "      <td>6</td>\n",
       "      <td>7</td>\n",
       "      <td>2</td>\n",
       "      <td>1</td>\n",
       "      <td>2</td>\n",
       "      <td>4</td>\n",
       "      <td>778</td>\n",
       "      <td>2793</td>\n",
       "      <td>530</td>\n",
       "      <td>0.390618</td>\n",
       "    </tr>\n",
       "    <tr>\n",
       "      <td>7</td>\n",
       "      <td>8</td>\n",
       "      <td>2</td>\n",
       "      <td>1</td>\n",
       "      <td>3</td>\n",
       "      <td>3</td>\n",
       "      <td>245</td>\n",
       "      <td>2555</td>\n",
       "      <td>242</td>\n",
       "      <td>0.993306</td>\n",
       "    </tr>\n",
       "    <tr>\n",
       "      <td>8</td>\n",
       "      <td>9</td>\n",
       "      <td>2</td>\n",
       "      <td>2</td>\n",
       "      <td>1</td>\n",
       "      <td>2</td>\n",
       "      <td>1000</td>\n",
       "      <td>2271</td>\n",
       "      <td>265</td>\n",
       "      <td>0.894212</td>\n",
       "    </tr>\n",
       "    <tr>\n",
       "      <td>9</td>\n",
       "      <td>10</td>\n",
       "      <td>2</td>\n",
       "      <td>2</td>\n",
       "      <td>2</td>\n",
       "      <td>4</td>\n",
       "      <td>632</td>\n",
       "      <td>1881</td>\n",
       "      <td>712</td>\n",
       "      <td>0.192206</td>\n",
       "    </tr>\n",
       "  </tbody>\n",
       "</table>\n",
       "</div>"
      ],
      "text/plain": [
       "   location_id  address_1  address_2  address_3  n_pharmacies  n_young  \\\n",
       "0            1          1          1          1             5      402   \n",
       "1            2          1          1          2             3      530   \n",
       "2            3          1          1          3             4      300   \n",
       "3            4          1          2          1             4      960   \n",
       "4            5          1          2          2             5      129   \n",
       "5            6          2          1          1             2      196   \n",
       "6            7          2          1          2             4      778   \n",
       "7            8          2          1          3             3      245   \n",
       "8            9          2          2          1             2     1000   \n",
       "9           10          2          2          2             4      632   \n",
       "\n",
       "   n_adults  n_elders  intensity  \n",
       "0      2206       116   0.656476  \n",
       "1      2865       807   0.766949  \n",
       "2      2248       900   0.352150  \n",
       "3      2892       538   0.450202  \n",
       "4       882       289   0.757943  \n",
       "5      1311       296   0.574397  \n",
       "6      2793       530   0.390618  \n",
       "7      2555       242   0.993306  \n",
       "8      2271       265   0.894212  \n",
       "9      1881       712   0.192206  "
      ]
     },
     "execution_count": 12,
     "metadata": {},
     "output_type": "execute_result"
    }
   ],
   "source": [
    "import pandas as pd\n",
    "data = pd.read_csv('data.csv') \n",
    "data.iloc[0:10,:]"
   ]
  },
  {
   "cell_type": "markdown",
   "metadata": {},
   "source": [
    "### Data processing\n",
    "- create pharmacy data: each pharmacy has the same number of population for each class within the same area (location_id)"
   ]
  },
  {
   "cell_type": "code",
   "execution_count": 26,
   "metadata": {},
   "outputs": [
    {
     "name": "stdout",
     "output_type": "stream",
     "text": [
      "(36, 5)\n"
     ]
    },
    {
     "data": {
      "text/html": [
       "<div>\n",
       "<style scoped>\n",
       "    .dataframe tbody tr th:only-of-type {\n",
       "        vertical-align: middle;\n",
       "    }\n",
       "\n",
       "    .dataframe tbody tr th {\n",
       "        vertical-align: top;\n",
       "    }\n",
       "\n",
       "    .dataframe thead th {\n",
       "        text-align: right;\n",
       "    }\n",
       "</style>\n",
       "<table border=\"1\" class=\"dataframe\">\n",
       "  <thead>\n",
       "    <tr style=\"text-align: right;\">\n",
       "      <th></th>\n",
       "      <th>pharmacy_id</th>\n",
       "      <th>location_id</th>\n",
       "      <th>n_young</th>\n",
       "      <th>n_adults</th>\n",
       "      <th>n_elders</th>\n",
       "    </tr>\n",
       "  </thead>\n",
       "  <tbody>\n",
       "    <tr>\n",
       "      <td>0</td>\n",
       "      <td>1</td>\n",
       "      <td>1</td>\n",
       "      <td>81</td>\n",
       "      <td>442</td>\n",
       "      <td>24</td>\n",
       "    </tr>\n",
       "    <tr>\n",
       "      <td>1</td>\n",
       "      <td>2</td>\n",
       "      <td>1</td>\n",
       "      <td>81</td>\n",
       "      <td>442</td>\n",
       "      <td>24</td>\n",
       "    </tr>\n",
       "    <tr>\n",
       "      <td>2</td>\n",
       "      <td>3</td>\n",
       "      <td>1</td>\n",
       "      <td>81</td>\n",
       "      <td>442</td>\n",
       "      <td>24</td>\n",
       "    </tr>\n",
       "    <tr>\n",
       "      <td>3</td>\n",
       "      <td>4</td>\n",
       "      <td>1</td>\n",
       "      <td>81</td>\n",
       "      <td>442</td>\n",
       "      <td>24</td>\n",
       "    </tr>\n",
       "    <tr>\n",
       "      <td>4</td>\n",
       "      <td>5</td>\n",
       "      <td>1</td>\n",
       "      <td>81</td>\n",
       "      <td>442</td>\n",
       "      <td>24</td>\n",
       "    </tr>\n",
       "    <tr>\n",
       "      <td>5</td>\n",
       "      <td>6</td>\n",
       "      <td>2</td>\n",
       "      <td>177</td>\n",
       "      <td>955</td>\n",
       "      <td>269</td>\n",
       "    </tr>\n",
       "    <tr>\n",
       "      <td>6</td>\n",
       "      <td>7</td>\n",
       "      <td>2</td>\n",
       "      <td>177</td>\n",
       "      <td>955</td>\n",
       "      <td>269</td>\n",
       "    </tr>\n",
       "    <tr>\n",
       "      <td>7</td>\n",
       "      <td>8</td>\n",
       "      <td>2</td>\n",
       "      <td>177</td>\n",
       "      <td>955</td>\n",
       "      <td>269</td>\n",
       "    </tr>\n",
       "    <tr>\n",
       "      <td>8</td>\n",
       "      <td>9</td>\n",
       "      <td>3</td>\n",
       "      <td>75</td>\n",
       "      <td>562</td>\n",
       "      <td>225</td>\n",
       "    </tr>\n",
       "    <tr>\n",
       "      <td>9</td>\n",
       "      <td>10</td>\n",
       "      <td>3</td>\n",
       "      <td>75</td>\n",
       "      <td>562</td>\n",
       "      <td>225</td>\n",
       "    </tr>\n",
       "  </tbody>\n",
       "</table>\n",
       "</div>"
      ],
      "text/plain": [
       "  pharmacy_id location_id n_young n_adults n_elders\n",
       "0           1           1      81      442       24\n",
       "1           2           1      81      442       24\n",
       "2           3           1      81      442       24\n",
       "3           4           1      81      442       24\n",
       "4           5           1      81      442       24\n",
       "5           6           2     177      955      269\n",
       "6           7           2     177      955      269\n",
       "7           8           2     177      955      269\n",
       "8           9           3      75      562      225\n",
       "9          10           3      75      562      225"
      ]
     },
     "execution_count": 26,
     "metadata": {},
     "output_type": "execute_result"
    }
   ],
   "source": [
    "import numpy as np\n",
    "n = data.shape[0] # number of total locations\n",
    "m = data['n_pharmacies'].sum()\n",
    "pharm_data =  pd.DataFrame([],index=range(0,m), columns=['pharmacy_id', 'location_id', 'n_young','n_adults','n_elders'])\n",
    "print(pharm_data.shape)\n",
    "counter = 0\n",
    "for i in range(n):\n",
    "    nn = data.iloc[i,4]\n",
    "    for j in range(nn):\n",
    "        \n",
    "        pharm_data.iloc[counter,0] = counter + 1\n",
    "        pharm_data.iloc[counter,1] = data.iloc[i,0]\n",
    "        pharm_data.iloc[counter,2] = np.ceil(data.iloc[i,5]/nn)\n",
    "        pharm_data.iloc[counter,3] = np.ceil(data.iloc[i,6]/nn)\n",
    "        pharm_data.iloc[counter,4] = np.ceil(data.iloc[i,7]/nn)\n",
    "        counter = counter + 1\n",
    "pharm_data.iloc[0:10,]"
   ]
  },
  {
   "cell_type": "markdown",
   "metadata": {},
   "source": [
    "### total supply \n",
    "- total quantities are insufficient"
   ]
  },
  {
   "cell_type": "code",
   "execution_count": 8,
   "metadata": {},
   "outputs": [
    {
     "name": "stdout",
     "output_type": "stream",
     "text": [
      "2999.0\n",
      "11801.0\n"
     ]
    }
   ],
   "source": [
    "import numpy as np\n",
    "supply_young = np.ceil(0.5*data['n_young'].sum())\n",
    "supply_adults = np.ceil(0.5*(data['n_adults'].sum()+data['n_elders'].sum()))\n",
    "print(supply_young) # I arbitrarily set 50% of shortage\n",
    "print(supply_adults)"
   ]
  },
  {
   "cell_type": "markdown",
   "metadata": {},
   "source": [
    "### construct two utility functions for each pharmacy \n",
    "- we assume that each pharmacy in the same 'dong' area has the same number of (potential) customers\n",
    "- e.g. An area has 100 population and 2 pharmacies. Then, pharmacy 1 and 2 covers 50 and 50 population respectively in this area.\n",
    "- Each pharmacy has two utility functions; 1) utility function for young population (age below 15) and 2) utility for adults inclding elders (age above 65). \n",
    "- utiliy function is consisted of total population, number of breakpoints, population for each class, slope, max utility\n",
    "- Each area has an intensity which shows the level of threat for COVID-19. (higher value represents higher threat)\n",
    "- to begin with, we focus on the problem of the adults below."
   ]
  },
  {
   "cell_type": "code",
   "execution_count": 13,
   "metadata": {},
   "outputs": [
    {
     "name": "stdout",
     "output_type": "stream",
     "text": [
      "The number of pharmacies is 10.\n"
     ]
    }
   ],
   "source": [
    "n = data.shape[0] # number of total locations\n",
    "print(\"The number of ('dong') locations is %d.\" % n)"
   ]
  },
  {
   "cell_type": "code",
   "execution_count": 27,
   "metadata": {},
   "outputs": [
    {
     "name": "stdout",
     "output_type": "stream",
     "text": [
      "The number of pharmacies is 36.\n"
     ]
    }
   ],
   "source": [
    "m = pharm_data.shape[0] # number of total pharmacies\n",
    "print(\"The number of pharmacies is %d.\" % m)"
   ]
  },
  {
   "cell_type": "code",
   "execution_count": 85,
   "metadata": {},
   "outputs": [
    {
     "data": {
      "text/html": [
       "<div>\n",
       "<style scoped>\n",
       "    .dataframe tbody tr th:only-of-type {\n",
       "        vertical-align: middle;\n",
       "    }\n",
       "\n",
       "    .dataframe tbody tr th {\n",
       "        vertical-align: top;\n",
       "    }\n",
       "\n",
       "    .dataframe thead th {\n",
       "        text-align: right;\n",
       "    }\n",
       "</style>\n",
       "<table border=\"1\" class=\"dataframe\">\n",
       "  <thead>\n",
       "    <tr style=\"text-align: right;\">\n",
       "      <th></th>\n",
       "      <th>location_id</th>\n",
       "      <th>n_adults</th>\n",
       "    </tr>\n",
       "  </thead>\n",
       "  <tbody>\n",
       "    <tr>\n",
       "      <td>0</td>\n",
       "      <td>1</td>\n",
       "      <td>2322</td>\n",
       "    </tr>\n",
       "    <tr>\n",
       "      <td>1</td>\n",
       "      <td>2</td>\n",
       "      <td>3672</td>\n",
       "    </tr>\n",
       "    <tr>\n",
       "      <td>2</td>\n",
       "      <td>3</td>\n",
       "      <td>3148</td>\n",
       "    </tr>\n",
       "    <tr>\n",
       "      <td>3</td>\n",
       "      <td>4</td>\n",
       "      <td>3430</td>\n",
       "    </tr>\n",
       "    <tr>\n",
       "      <td>4</td>\n",
       "      <td>5</td>\n",
       "      <td>1171</td>\n",
       "    </tr>\n",
       "  </tbody>\n",
       "</table>\n",
       "</div>"
      ],
      "text/plain": [
       "   location_id  n_adults\n",
       "0            1      2322\n",
       "1            2      3672\n",
       "2            3      3148\n",
       "3            4      3430\n",
       "4            5      1171"
      ]
     },
     "execution_count": 85,
     "metadata": {},
     "output_type": "execute_result"
    }
   ],
   "source": [
    "total_area_population = data[['location_id', 'n_adults']].copy()  #total number of population of each \"dong\"\n",
    "for i in range(n):\n",
    "    total_area_population.iloc[i,1] = data.iloc[i,6] + data.iloc[i,7]\n"
   ]
  },
  {
   "cell_type": "code",
   "execution_count": 87,
   "metadata": {},
   "outputs": [
    {
     "name": "stdout",
     "output_type": "stream",
     "text": [
      "[ 466.  466.  466.  466. 1224. 1224. 1224.  787.  787.]\n"
     ]
    }
   ],
   "source": [
    "total_population = np.zeros(m) #total number of beds of each pharmacy\n",
    "for i in range(m):\n",
    "    total_population[i] = pharm_data.iloc[i,3] + pharm_data.iloc[i,4]\n",
    "print(total_population[1:10])"
   ]
  },
  {
   "cell_type": "code",
   "execution_count": 28,
   "metadata": {},
   "outputs": [],
   "source": [
    "num_breaks = np.zeros(m) #number of breakpoints of the utility function for each pharmacy\n",
    "for i in range(m):\n",
    "    num_breaks[i] = 2"
   ]
  },
  {
   "cell_type": "code",
   "execution_count": 36,
   "metadata": {},
   "outputs": [
    {
     "name": "stdout",
     "output_type": "stream",
     "text": [
      "[[ 24. 442.]\n",
      " [ 24. 442.]\n",
      " [ 24. 442.]\n",
      " [ 24. 442.]\n",
      " [ 24. 442.]\n",
      " [269. 955.]\n",
      " [269. 955.]\n",
      " [269. 955.]\n",
      " [225. 562.]\n",
      " [225. 562.]]\n"
     ]
    }
   ],
   "source": [
    "sub_population = np.zeros([m,2]) # number of capacity of each class (adults and elders) for each pharmacy\n",
    "for i in range(m):\n",
    "    sub_population[i,0] = pharm_data.iloc[i,4] # number of elders (they have a higher priority)\n",
    "    sub_population[i,1] = pharm_data.iloc[i,3] # number of adults\n",
    "\n",
    "print(sub_population[0:10,:])"
   ]
  },
  {
   "cell_type": "markdown",
   "metadata": {},
   "source": [
    "- slope means the utility for one customer of each class (higher slope means higher benefit)"
   ]
  },
  {
   "cell_type": "code",
   "execution_count": null,
   "metadata": {},
   "outputs": [],
   "source": [
    "slope = np.zeros([m,2]) # number of slope of each class (adults and elders) for each pharmacy\n",
    "for i in range(m):\n",
    "    a = data.loc[data['location_id']==pharm_data.iloc[i,1],'intensity']\n",
    "    temp_intensity = a.iloc[0] # obtain the intensity for the i-th pharmacy\n",
    "    slope[i,0] = 2 * temp_intensity#* data.iloc[i,6] #second term adjusts the utility slope \n",
    "    slope[i,1] = 1 * temp_intensity#* data.iloc[i,7]\n",
    "print(slope[1:10,:])"
   ]
  },
  {
   "cell_type": "markdown",
   "metadata": {},
   "source": [
    "- maximum utility of each pharmacy (this is needed for future computation of the gini index)"
   ]
  },
  {
   "cell_type": "code",
   "execution_count": 54,
   "metadata": {},
   "outputs": [
    {
     "name": "stdout",
     "output_type": "stream",
     "text": [
      "[ 321.67299843  321.67299843  321.67299843  321.67299843  321.67299843\n",
      " 1145.05434042 1145.05434042 1145.05434042  356.3761289   356.3761289 ]\n"
     ]
    }
   ],
   "source": [
    "max_utility = np.zeros(m)\n",
    "for i in range(m):\n",
    "    max_utility[i] = sub_population[i,0]*slope[i,0]+sub_population[i,1]*slope[i,1]\n",
    "print(max_utility[0:10])"
   ]
  },
  {
   "cell_type": "markdown",
   "metadata": {},
   "source": [
    "## (Sample) utility funtion graph"
   ]
  },
  {
   "cell_type": "code",
   "execution_count": 84,
   "metadata": {},
   "outputs": [
    {
     "name": "stdout",
     "output_type": "stream",
     "text": [
      "[  0.  24. 442.] [  0.          31.51082434 321.67299843]\n"
     ]
    },
    {
     "data": {
      "text/plain": [
       "Text(0.5, 0.98, 'A sample utility function of pharmacy')"
      ]
     },
     "execution_count": 84,
     "metadata": {},
     "output_type": "execute_result"
    },
    {
     "data": {
      "image/png": "[encoded data removed]",
      "text/plain": [
       "<Figure size 432x288 with 1 Axes>"
      ]
     },
     "metadata": {
      "needs_background": "light"
     },
     "output_type": "display_data"
    }
   ],
   "source": [
    "from scipy import optimize\n",
    "import matplotlib.pyplot as plt\n",
    "import numpy as np\n",
    "%matplotlib inline\n",
    "\n",
    "x = np.array([0, sub_population[0,0],sub_population[0,1]], dtype=float)\n",
    "y = np.array([0, sub_population[0,0]*slope[0,0],sub_population[0,0]*slope[0,0]+sub_population[0,1]*slope[0,1] ])\n",
    "\n",
    "print(x,y)\n",
    "fig, ax = plt.subplots()\n",
    "\n",
    "plt.xlim([0, x[2]])\n",
    "plt.ylim([0, y[2]])\n",
    "plt.scatter(x, y)\n",
    "plt.plot(x, y,\"r\")\n",
    "fig.suptitle('A sample utility function of pharmacy', fontsize=12)"
   ]
  },
  {
   "cell_type": "markdown",
   "metadata": {},
   "source": [
    "## Solve a bi-criteria optimization using $\\epsilon$-constraint method"
   ]
  },
  {
   "cell_type": "code",
   "execution_count": 161,
   "metadata": {},
   "outputs": [],
   "source": [
    "from docplex.mp.model import Model\n",
    "\n",
    "def solve_problem(epsilon,supply,total_population,num_breaks,sub_population,slope,max_utility):\n",
    "    flag = 1 # if optimal solution is found: 0, otherwise 1.\n",
    "    numPharmacies = total_population.shape[0] # number of pharmacies\n",
    "    N = [i for i in range(numPharmacies)] #define set\n",
    "    M = [i for i in range(int(num_breaks[0]))] #define set for break points \n",
    "    A = [(i,t) for i in range(numPharmacies) for t in range(int(num_breaks[0]))] #define set for x_i^t\n",
    "    B = [(j,k) for j in range(numPharmacies) for k in range(numPharmacies) if k>j]\n",
    "    \n",
    "    mdl = Model(\"lp\")\n",
    "    # define variables\n",
    "    x = mdl.integer_var_dict(A,name='x')\n",
    "    d_plus = mdl.continuous_var_dict(B,name='d_plus')\n",
    "    d_minus = mdl.continuous_var_dict(B,name='d_minus')\n",
    "    \n",
    "    # define objecitve function \n",
    "    mdl.maximize(mdl.sum(slope[i,t]*x[i,t] for i,t in A))\n",
    "    #print(mdl.get_objective_expr())\n",
    "    # define constraints \n",
    "    mdl.add_constraint(mdl.sum(x[i,t] for i,t in A) <= supply,\"constraint1\") #total shipped quantities is less than supply\n",
    "    #print(mdl.get_constraint_by_name(\"constraint1\"))\n",
    "    for i,t in A:\n",
    "        mdl.add_constraint(x[i,t]<=sub_population[i,t]) # resriction of shipped quantiies for each interval \n",
    "    for i in N: # this constraint maybe redundant because of the previous interval restriction\n",
    "        mdl.add_constraint(mdl.sum(x[i,t] for t in M) <= total_population[i], ctname='constraint2_%d'% i) # shipped quantities is less than hospital capacity\n",
    "        #print(mdl.get_constraint_by_name(\"constraint2_%d\"% i))\n",
    "    for j,k in B:\n",
    "        mdl.add_constraint(d_plus[j,k]-d_minus[j,k]==max_utility[j]*mdl.sum(slope[k,t]*x[k,t] for t in M)-max_utility[k]*mdl.sum(slope[j,t]*x[j,t] for t in M),ctname='constraint3_%d_%d'% (j,k))\n",
    "        #print(mdl.get_constraint_by_name(\"constraint3_%d_%d\"% (j,k)))\n",
    "    mdl.add_constraint(mdl.sum(d_plus[j,k]+d_minus[j,k] for j,k in B)<=epsilon*mdl.sum(max_utility[i] for i in N)*mdl.sum(slope[i,t]*x[i,t] for i,t in A))\n",
    "    \n",
    "    solution = mdl.solve(log_output=False)\n",
    "    #print(solution)\n",
    "    x_sol = solution.get_value_dict(x)\n",
    "    x_sol_list = list(x_sol.values())\n",
    "    #print(x_sol_list)\n",
    "    d_plus = solution.get_value_dict(d_plus)\n",
    "    d_plus_list = list(d_plus.values())\n",
    "    #print(d_plus_list)\n",
    "    d_minus = solution.get_value_dict(d_minus)\n",
    "    d_minus_list = list(d_minus.values())\n",
    "    #print(d_minus_list)\n",
    "    flag = solution.solve_status\n",
    "    #print(flag)\n",
    "    optObj = solution.objective_value\n",
    "    #print(optObj)\n",
    "    return x_sol,d_plus,d_minus,optObj,flag"
   ]
  },
  {
   "cell_type": "markdown",
   "metadata": {},
   "source": [
    "### solve the problem with epsilon value"
   ]
  },
  {
   "cell_type": "code",
   "execution_count": 110,
   "metadata": {},
   "outputs": [],
   "source": [
    "epsilon = 0.1"
   ]
  },
  {
   "cell_type": "code",
   "execution_count": 151,
   "metadata": {},
   "outputs": [
    {
     "name": "stdout",
     "output_type": "stream",
     "text": [
      "Version identifier: 12.10.0.0 | 2019-11-26 | 843d4de2ae\n",
      "CPXPARAM_Read_DataCheck                          1\n",
      "CPXPARAM_RandomSeed                              201903125\n",
      "Found incumbent of value 0.000000 after 0.00 sec. (0.04 ticks)\n",
      "Tried aggregator 1 time.\n",
      "MIP Presolve eliminated 108 rows and 0 columns.\n",
      "MIP Presolve modified 210 coefficients.\n",
      "Reduced MIP has 632 rows, 1332 columns, and 5114 nonzeros.\n",
      "Reduced MIP has 0 binaries, 72 generals, 0 SOSs, and 0 indicators.\n",
      "Presolve time = 0.03 sec. (3.69 ticks)\n",
      "Tried aggregator 1 time.\n",
      "Detecting symmetries...\n",
      "Reduced MIP has 632 rows, 1332 columns, and 5114 nonzeros.\n",
      "Reduced MIP has 0 binaries, 72 generals, 0 SOSs, and 0 indicators.\n",
      "Presolve time = 0.02 sec. (2.55 ticks)\n",
      "MIP emphasis: balance optimality and feasibility.\n",
      "MIP search method: dynamic search.\n",
      "Parallel mode: deterministic, using up to 4 threads.\n",
      "Root relaxation solution time = 0.03 sec. (15.05 ticks)\n",
      "\n",
      "        Nodes                                         Cuts/\n",
      "   Node  Left     Objective  IInf  Best Integer    Best Bound    ItCnt     Gap\n",
      "\n",
      "*     0+    0                            0.0000    18133.8849              --- \n",
      "      0     0    10423.4484    32        0.0000    10423.4484      347     --- \n",
      "      0     0    10423.3936    32        0.0000      Cuts: 53      376     --- \n",
      "      0     0    10423.2705    32        0.0000       Cuts: 2      391     --- \n",
      "      0     0    10423.2574    32        0.0000      Fract: 1      394     --- \n",
      "*     0+    0                        10421.7746    10423.2574             0.01%\n",
      "Detecting symmetries...\n",
      "      0     2    10423.2574    28    10421.7746    10423.1139      394    0.01%\n",
      "Elapsed time = 0.48 sec. (217.58 ticks, tree = 0.02 MB, solutions = 2)\n",
      "\n",
      "Mixed integer rounding cuts applied:  51\n",
      "Lift and project cuts applied:  2\n",
      "Gomory fractional cuts applied:  9\n",
      "\n",
      "Root node processing (before b&c):\n",
      "  Real time             =    0.44 sec. (214.60 ticks)\n",
      "Parallel b&c, 4 threads:\n",
      "  Real time             =    1.00 sec. (114.39 ticks)\n",
      "  Sync time (average)   =    0.74 sec.\n",
      "  Wait time (average)   =    0.00 sec.\n",
      "                          ------------\n",
      "Total (root+branch&cut) =    1.44 sec. (329.00 ticks)\n",
      "JobSolveStatus.OPTIMAL_SOLUTION\n",
      "10421.774607971001\n"
     ]
    }
   ],
   "source": [
    "x,d_plus,d_minus,obj_val,flag = solve_problem(epsilon,supply_adults,total_population,num_breaks,sub_population,slope,max_utility)"
   ]
  },
  {
   "cell_type": "code",
   "execution_count": 158,
   "metadata": {},
   "outputs": [],
   "source": [
    "def restore_values(numPharmacies,x,d_plus,d_minus,obj_val):\n",
    "\n",
    "    num_value = 0 \n",
    "    for j in range(numPharmacies):\n",
    "        for k in range(numPharmacies):\n",
    "            if k>j:\n",
    "                num_value = num_value + d_plus[(j,k)] + + d_minus[(j,k)]\n",
    "    #print(num_value)\n",
    "    denom_value_1 = 0 \n",
    "    for i in range(numPharmacies):\n",
    "        denom_value_1 = denom_value_1 + max_utility[i]\n",
    "    #print(denom_value_1)\n",
    "    denom_value_2 = 0 \n",
    "    for i in range(numPharmacies):\n",
    "        for t in range(int(num_breaks[0])):\n",
    "            denom_value_2 = denom_value_2 + slope[i,t]*x[i,t]\n",
    "    #print(denom_value_2)\n",
    "    gini = num_value/(denom_value_1*denom_value_2)\n",
    "    # print(gini)\n",
    "    return gini, obj_val"
   ]
  },
  {
   "cell_type": "code",
   "execution_count": 159,
   "metadata": {},
   "outputs": [
    {
     "name": "stdout",
     "output_type": "stream",
     "text": [
      "0.09997559923453471\n",
      "10421.774607971001\n"
     ]
    }
   ],
   "source": [
    "gini, obj_val  = restore_values(numPharmacies,x,d_plus,d_minus,obj_val)\n",
    "print(gini)\n",
    "print(obj_val)"
   ]
  },
  {
   "cell_type": "markdown",
   "metadata": {},
   "source": [
    "## Obtain a trade-off curve between inequity vs. utility"
   ]
  },
  {
   "cell_type": "code",
   "execution_count": 171,
   "metadata": {},
   "outputs": [
    {
     "name": "stdout",
     "output_type": "stream",
     "text": [
      "  epsilon    inequity  utility\n",
      "0    0.01  0.00999993  9715.66\n",
      "1    0.05   0.0499911  10039.9\n",
      "2     0.1   0.0999756  10421.8\n",
      "3    0.15    0.149999  10807.7\n",
      "4     0.2    0.199969  11118.9\n",
      "5    0.25    0.249947  11344.9\n",
      "6     0.3    0.299985    11514\n",
      "7    0.35     0.33524  11564.8\n",
      "8     0.4     0.33524  11564.8\n"
     ]
    }
   ],
   "source": [
    "B = [0.01, 0.05, 0.1, 0.15, 0.2, 0.25, 0.3, 0.35, 0.4]\n",
    "results =  pd.DataFrame([],index=range(0,len(B)), columns=['epsilon', 'inequity', 'utility'])\n",
    "for i in range(len(B)):\n",
    "    epsilon = B[i]\n",
    "    #print(epsilon)\n",
    "    x,d_plus,d_minus,obj_val,flag = solve_problem(epsilon,supply_adults,total_population,num_breaks,sub_population,slope,max_utility)\n",
    "    gini, obj_val  = restore_values(numPharmacies,x,d_plus,d_minus,obj_val)\n",
    "    results.iloc[i,0] = epsilon\n",
    "    results.iloc[i,1] = gini\n",
    "    results.iloc[i,2] = obj_val\n",
    "    \n",
    "print(results.iloc[0:len(B)])"
   ]
  },
  {
   "cell_type": "code",
   "execution_count": 175,
   "metadata": {},
   "outputs": [
    {
     "data": {
      "text/plain": [
       "Text(0.5, 0.98, 'A trade-off curve')"
      ]
     },
     "execution_count": 175,
     "metadata": {},
     "output_type": "execute_result"
    },
    {
     "data": {
      "image/png": "[encoded data removed]",
      "text/plain": [
       "<Figure size 432x288 with 1 Axes>"
      ]
     },
     "metadata": {
      "needs_background": "light"
     },
     "output_type": "display_data"
    }
   ],
   "source": [
    "fig, ax = plt.subplots()\n",
    "plt.xlim([0, 1.1* results['inequity'].max()])\n",
    "plt.ylim([0.95*results['utility'].min(), 1.05*results['utility'].max()])\n",
    "plt.scatter(results['inequity'], results['utility'])\n",
    "plt.plot(results['inequity'], results['utility'],\"r\")\n",
    "fig.suptitle('A trade-off curve', fontsize=12)"
   ]
  },
  {
   "cell_type": "markdown",
   "metadata": {},
   "source": [
    "## Restore the solution"
   ]
  },
  {
   "cell_type": "code",
   "execution_count": 179,
   "metadata": {},
   "outputs": [
    {
     "name": "stdout",
     "output_type": "stream",
     "text": [
      "epsilon value is  0.40\n",
      "   pharmacy_id n_adults n_elders allocation_qty\n",
      "0            0      442       24             24\n",
      "1            1      442       24             24\n",
      "2            2      442       24             24\n",
      "3            3      442       24             24\n",
      "4            4      442       24             24\n",
      "5            5      955      269           1224\n",
      "6            6      955      269           1224\n",
      "7            7      955      269           1224\n",
      "8            8      562      225              0\n",
      "9            9      562      225              0\n",
      "10          10      562      225              0\n",
      "11          11      562      225            129\n",
      "12          12      723      135            135\n",
      "13          13      723      135            135\n",
      "14          14      723      135            135\n",
      "15          15      723      135            135\n",
      "16          16      177       58            235\n",
      "17          17      177       58            235\n",
      "18          18      177       58            235\n",
      "19          19      177       58            235\n",
      "20          20      177       58            235\n",
      "21          21      656      148            148\n",
      "22          22      656      148            148\n",
      "23          23      699      133            133\n",
      "24          24      699      133            133\n",
      "25          25      699      133            133\n",
      "26          26      699      133            133\n",
      "27          27      852       81            933\n",
      "28          28      852       81            933\n",
      "29          29      852       81            933\n",
      "30          30     1136      133           1269\n",
      "31          31     1136      133           1269\n",
      "32          32      471      178              0\n",
      "33          33      471      178              0\n",
      "34          34      471      178              0\n",
      "35          35      471      178              0\n"
     ]
    }
   ],
   "source": [
    "allocation_result =  pd.DataFrame([],index=range(0,m), columns=['pharmacy_id','n_adults','n_elders','allocation_qty'])\n",
    "print(\"epsilon value is %5.2f\" % epsilon)\n",
    "for i in range(m):\n",
    "    temp_x = 0 \n",
    "    for t in range(int(num_breaks[0])):\n",
    "        temp_x = temp_x + x[(i,t)]\n",
    "        \n",
    "    allocation_result.iloc[i,0] = i\n",
    "    allocation_result.iloc[i,1] = pharm_data.iloc[i,3]\n",
    "    allocation_result.iloc[i,2] = pharm_data.iloc[i,4]\n",
    "    allocation_result.iloc[i,3] = temp_x\n",
    "\n",
    "print(allocation_result)"
   ]
  },
  {
   "cell_type": "code",
   "execution_count": 181,
   "metadata": {},
   "outputs": [
    {
     "name": "stdout",
     "output_type": "stream",
     "text": [
      "epsilon value is  0.05\n",
      "   pharmacy_id n_adults n_elders allocation_qty\n",
      "0            0      442       24            265\n",
      "1            1      442       24            265\n",
      "2            2      442       24            265\n",
      "3            3      442       24            265\n",
      "4            4      442       24            265\n",
      "5            5      955      269            613\n",
      "6            6      955      269            613\n",
      "7            7      955      269            613\n",
      "8            8      562      225            225\n",
      "9            9      562      225            225\n",
      "10          10      562      225            225\n",
      "11          11      562      225            225\n",
      "12          12      723      135            379\n",
      "13          13      723      135            379\n",
      "14          14      723      135            379\n",
      "15          15      723      135            379\n",
      "16          16      177       58            115\n",
      "17          17      177       58            115\n",
      "18          18      177       58            115\n",
      "19          19      177       58            115\n",
      "20          20      177       58            115\n",
      "21          21      656      148            414\n",
      "22          22      656      148            414\n",
      "23          23      699      133            291\n",
      "24          24      699      133            291\n",
      "25          25      699      133            291\n",
      "26          26      699      133            291\n",
      "27          27      852       81            518\n",
      "28          28      852       81            518\n",
      "29          29      852       81            518\n",
      "30          30     1136      133            695\n",
      "31          31     1136      133            695\n",
      "32          32      471      178            178\n",
      "33          33      471      178            178\n",
      "34          34      471      178            178\n",
      "35          35      471      178            176\n"
     ]
    }
   ],
   "source": [
    "epsilon=0.05\n",
    "x,d_plus,d_minus,obj_val,flag = solve_problem(epsilon,supply_adults,total_population,num_breaks,sub_population,slope,max_utility)\n",
    "gini, obj_val  = restore_values(numPharmacies,x,d_plus,d_minus,obj_val)\n",
    "allocation_result =  pd.DataFrame([],index=range(0,m), columns=['pharmacy_id','n_adults','n_elders','allocation_qty'])\n",
    "print(\"epsilon value is %5.2f\" % epsilon)\n",
    "for i in range(m):\n",
    "    temp_x = 0 \n",
    "    for t in range(int(num_breaks[0])):\n",
    "        temp_x = temp_x + x[(i,t)]\n",
    "        \n",
    "    allocation_result.iloc[i,0] = i\n",
    "    allocation_result.iloc[i,1] = pharm_data.iloc[i,3]\n",
    "    allocation_result.iloc[i,2] = pharm_data.iloc[i,4]\n",
    "    allocation_result.iloc[i,3] = temp_x\n",
    "\n",
    "print(allocation_result)\n"
   ]
  },
  {
   "cell_type": "markdown",
   "metadata": {},
   "source": [
    "## limitation\n",
    "- there is no guarantee that the higher priority purchase the mask in order\n",
    "- however, we also assume that the customers randomly walked in the pharmacies. This implies the the customer will obtain the mask on average."
   ]
  }
 ],
 "metadata": {
  "kernelspec": {
   "display_name": "Python 3",
   "language": "python",
   "name": "python3"
  },
  "language_info": {
   "codemirror_mode": {
    "name": "ipython",
    "version": 3
   },
   "file_extension": ".py",
   "mimetype": "text/x-python",
   "name": "python",
   "nbconvert_exporter": "python",
   "pygments_lexer": "ipython3",
   "version": "3.7.4"
  }
 },
 "nbformat": 4,
 "nbformat_minor": 2
}
